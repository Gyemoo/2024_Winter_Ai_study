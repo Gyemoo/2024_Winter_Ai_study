{
  "nbformat": 4,
  "nbformat_minor": 0,
  "metadata": {
    "colab": {
      "provenance": []
    },
    "kernelspec": {
      "name": "python3",
      "display_name": "Python 3"
    },
    "language_info": {
      "name": "python"
    }
  },
  "cells": [
    {
      "cell_type": "markdown",
      "source": [
        "# 17장. 딥러닝을 이용한 자연어 처리"
      ],
      "metadata": {
        "id": "pVHGbxDwusqR"
      }
    },
    {
      "cell_type": "markdown",
      "source": [
        "자연어: 우리가 평소에 말하는 음성이나 텍스트 <br>\n",
        "자연어 처리: 음성이나 텍스트를 컴퓨터가 인식하고 처리하는 것"
      ],
      "metadata": {
        "id": "Re9G1kg2vgDp"
      }
    },
    {
      "cell_type": "markdown",
      "source": [
        "## 1. 텍스트의 토큰화"
      ],
      "metadata": {
        "id": "jt4yaLefvql2"
      }
    },
    {
      "cell_type": "markdown",
      "source": [
        "토큰: 작게 나누어진 하나의 단위 <br>\n",
        "토큰화: 입력된 텍스트를 잘게 나누는 과정"
      ],
      "metadata": {
        "id": "Q5TLmJDtvs7K"
      }
    },
    {
      "cell_type": "markdown",
      "source": [
        "케라스가 제공하는 text 모듈의 text_to_word_sequence() 함수를 사용하면 문장을 단어 단위로 쉽게 나눌 수 있음"
      ],
      "metadata": {
        "id": "aJV9b5M_v-pj"
      }
    },
    {
      "cell_type": "code",
      "source": [
        "from tensorflow.keras.preprocessing.text import text_to_word_sequence\n",
        "\n",
        "text='해보지 않으면 해낼 수 없다'\n",
        "result=text_to_word_sequence(text)\n",
        "print(result)"
      ],
      "metadata": {
        "colab": {
          "base_uri": "https://localhost:8080/"
        },
        "id": "CKbTEaiEuwVx",
        "outputId": "d52fcc25-13b4-45ef-9d4d-2d15f3a2757d"
      },
      "execution_count": 1,
      "outputs": [
        {
          "output_type": "stream",
          "name": "stdout",
          "text": [
            "['해보지', '않으면', '해낼', '수', '없다']\n"
          ]
        }
      ]
    },
    {
      "cell_type": "markdown",
      "source": [
        "토큰화를 이용하면 각 단어가 몇번이나 중복해서 썼는지를 알 수 있음 <br>\n",
        "→ 텍스트를 단어 단위로 쪼개는 것은 가장 많이 쓰이는 전처리 과정임"
      ],
      "metadata": {
        "id": "EJfMbcmVwGnE"
      }
    },
    {
      "cell_type": "markdown",
      "source": [
        "Bag-of-Words: 단어의 가방. 같은 단어끼리 따로따로 가방에 담은 뒤 각 가방에 몇 개의 단어가 들어있는지를 세는 기법"
      ],
      "metadata": {
        "id": "pZUmGBxWwS-d"
      }
    },
    {
      "cell_type": "markdown",
      "source": [
        "케라스의 Tokenizer() 함수를 사용하면 빈도 수를 쉽게 계산할 수 있음"
      ],
      "metadata": {
        "id": "QYJTot9hwcck"
      }
    },
    {
      "cell_type": "code",
      "source": [
        "from tensorflow.keras.preprocessing.text import Tokenizer"
      ],
      "metadata": {
        "id": "cVnnp3WSv8DP"
      },
      "execution_count": 2,
      "outputs": []
    },
    {
      "cell_type": "code",
      "source": [
        "docs=['먼저 텍스트의 각 단어를 나누어 토큰화합니다.',\n",
        "      '텍스트의 단어로 토큰화해야 딥러닝에서 인식됩니다.',\n",
        "      '토큰화한 결과는 딥러닝에서 사용할 수 있습니다.']"
      ],
      "metadata": {
        "id": "HWsuEfZnwmmc"
      },
      "execution_count": 3,
      "outputs": []
    },
    {
      "cell_type": "code",
      "source": [
        "token=Tokenizer() # 토큰화 함수 지정\n",
        "token.fit_on_texts(docs) # 토큰화 함수에 문장 적용\n",
        "print(token.word_counts) # 단어의 빈도 수를 계산한 결과 출력"
      ],
      "metadata": {
        "colab": {
          "base_uri": "https://localhost:8080/"
        },
        "id": "8S0FJKcBw2i3",
        "outputId": "74aca801-8009-4a40-eec8-0a0027a54c8d"
      },
      "execution_count": 4,
      "outputs": [
        {
          "output_type": "stream",
          "name": "stdout",
          "text": [
            "OrderedDict([('먼저', 1), ('텍스트의', 2), ('각', 1), ('단어를', 1), ('나누어', 1), ('토큰화합니다', 1), ('단어로', 1), ('토큰화해야', 1), ('딥러닝에서', 2), ('인식됩니다', 1), ('토큰화한', 1), ('결과는', 1), ('사용할', 1), ('수', 1), ('있습니다', 1)])\n"
          ]
        }
      ]
    },
    {
      "cell_type": "code",
      "source": [
        "print(token.document_count) # 총 몇 개의 문장이 들어있는지 셈"
      ],
      "metadata": {
        "colab": {
          "base_uri": "https://localhost:8080/"
        },
        "id": "rxTBPa5MxAbn",
        "outputId": "fca05aca-01f7-4de2-a114-174816da19db"
      },
      "execution_count": 6,
      "outputs": [
        {
          "output_type": "stream",
          "name": "stdout",
          "text": [
            "3\n"
          ]
        }
      ]
    },
    {
      "cell_type": "code",
      "source": [
        "print(token.word_docs) # 각 단어들이 몇 개의 문장에서 나오는지 셈"
      ],
      "metadata": {
        "colab": {
          "base_uri": "https://localhost:8080/"
        },
        "id": "FtsQQlRsxFGB",
        "outputId": "534cec6f-e296-40f6-fc0d-5ce7df587799"
      },
      "execution_count": 7,
      "outputs": [
        {
          "output_type": "stream",
          "name": "stdout",
          "text": [
            "defaultdict(<class 'int'>, {'먼저': 1, '텍스트의': 2, '토큰화합니다': 1, '각': 1, '단어를': 1, '나누어': 1, '단어로': 1, '딥러닝에서': 2, '인식됩니다': 1, '토큰화해야': 1, '수': 1, '결과는': 1, '있습니다': 1, '토큰화한': 1, '사용할': 1})\n"
          ]
        }
      ]
    },
    {
      "cell_type": "code",
      "source": [
        "print(token.word_index) # 각 단어에 매겨진 인덱스 값"
      ],
      "metadata": {
        "colab": {
          "base_uri": "https://localhost:8080/"
        },
        "id": "ymiXkS2vxNUj",
        "outputId": "9a33fdc6-c2c9-40ae-c9fa-d0347e083d49"
      },
      "execution_count": 8,
      "outputs": [
        {
          "output_type": "stream",
          "name": "stdout",
          "text": [
            "{'텍스트의': 1, '딥러닝에서': 2, '먼저': 3, '각': 4, '단어를': 5, '나누어': 6, '토큰화합니다': 7, '단어로': 8, '토큰화해야': 9, '인식됩니다': 10, '토큰화한': 11, '결과는': 12, '사용할': 13, '수': 14, '있습니다': 15}\n"
          ]
        }
      ]
    },
    {
      "cell_type": "markdown",
      "source": [
        "### 주어진 문장을 '단어'로 토큰화 하기"
      ],
      "metadata": {
        "id": "I60PetBPxa5l"
      }
    },
    {
      "cell_type": "code",
      "source": [
        "# 텍스트 전처리 함수 text_to_word_sequence() 호출\n",
        "from tensorflow.keras.preprocessing.text import text_to_word_sequence\n",
        "\n",
        "# 전처리할 텍스트 정하기\n",
        "text='해보지 않으면 해낼 수 없다'\n",
        "\n",
        "# 해당 텍스트 토큰화\n",
        "result=text_to_word_sequence(text)\n",
        "print(\"\\n원문:\\n\",text)\n",
        "print(\"\\n토큰화:\\n\",result)\n",
        "\n",
        "# 텍스트 전처리 함수 Tokenizer() 호출\n",
        "from keras.preprocessing.text import Tokenizer\n",
        "\n",
        "# 전처리하려는 세 개의 문장 정하기\n",
        "docs=['먼저 텍스트의 각 단어를 나누어 토큰화합니다.',\n",
        "      '텍스트의 단어로 토큰화해야 딥러닝에서 인식됩니다.',\n",
        "      '토큰화한 결과는 딥러닝에서 사용할 수 있습니다.']\n",
        "\n",
        "# 토큰화 함수를 이용해 전처리하는 과정\n",
        "token=Tokenizer() # 토큰화 함수 지정\n",
        "token.fit_on_texts(docs) # 토큰화 함수에 문장 적용하기\n",
        "\n",
        "# 각 옵션에 맞춰 단어의 빈도 수를 계산한 결과 출력\n",
        "print(\"\\n단어 카운트:\\n\",token.word_counts)\n",
        "\n",
        "# 출력되는 순서는 랜덤\n",
        "print(\"\\문장 카운트:\\n\",token.document_count)\n",
        "print(\"\\n각 단어가 몇 개의 문장에 포함되어 있는가:\\n\",token.word_docs)\n",
        "print(\"\\n각 단어에 매겨진 인덱스 값:\\n\",token.word_index)"
      ],
      "metadata": {
        "colab": {
          "base_uri": "https://localhost:8080/"
        },
        "id": "W7GPxBYGxZ6e",
        "outputId": "d25ab1bb-b92c-453c-95ef-ca17d3f8eacf"
      },
      "execution_count": 10,
      "outputs": [
        {
          "output_type": "stream",
          "name": "stdout",
          "text": [
            "\n",
            "원문:\n",
            " 해보지 않으면 해낼 수 없다\n",
            "\n",
            "토큰화:\n",
            " ['해보지', '않으면', '해낼', '수', '없다']\n",
            "\n",
            "단어 카운트:\n",
            " OrderedDict([('먼저', 1), ('텍스트의', 2), ('각', 1), ('단어를', 1), ('나누어', 1), ('토큰화합니다', 1), ('단어로', 1), ('토큰화해야', 1), ('딥러닝에서', 2), ('인식됩니다', 1), ('토큰화한', 1), ('결과는', 1), ('사용할', 1), ('수', 1), ('있습니다', 1)])\n",
            "\\문장 카운트:\n",
            " 3\n",
            "\n",
            "각 단어가 몇 개의 문장에 포함되어 있는가:\n",
            " defaultdict(<class 'int'>, {'먼저': 1, '텍스트의': 2, '토큰화합니다': 1, '각': 1, '단어를': 1, '나누어': 1, '단어로': 1, '딥러닝에서': 2, '인식됩니다': 1, '토큰화해야': 1, '수': 1, '결과는': 1, '있습니다': 1, '토큰화한': 1, '사용할': 1})\n",
            "\n",
            "각 단어에 매겨진 인덱스 값:\n",
            " {'텍스트의': 1, '딥러닝에서': 2, '먼저': 3, '각': 4, '단어를': 5, '나누어': 6, '토큰화합니다': 7, '단어로': 8, '토큰화해야': 9, '인식됩니다': 10, '토큰화한': 11, '결과는': 12, '사용할': 13, '수': 14, '있습니다': 15}\n"
          ]
        }
      ]
    },
    {
      "cell_type": "markdown",
      "source": [
        "<hr>"
      ],
      "metadata": {
        "id": "mOdGGnNAOnbW"
      }
    },
    {
      "cell_type": "markdown",
      "source": [
        "## 2. 단어의 원-핫 인코딩"
      ],
      "metadata": {
        "id": "Xa1mePi9PHeq"
      }
    },
    {
      "cell_type": "markdown",
      "source": [
        "단어가 문장의 다른 요소와 어떤 관계를 가지고 있는지를 알아보는 방법이 필요함 → 원-핫 인코딩"
      ],
      "metadata": {
        "id": "rF9mQyPePLX6"
      }
    },
    {
      "cell_type": "markdown",
      "source": [
        "원-핫 인코딩: 각 단어를 모두 0으로 바꾸어 주고, 원하는 단어만 1로 바꾸어 주는 것"
      ],
      "metadata": {
        "id": "PTAfm0mAPmdK"
      }
    },
    {
      "cell_type": "code",
      "source": [
        "from tensorflow.keras.preprocessing.text import Tokenizer\n",
        "\n",
        "text=\"오랫동안 꿈꾸는 이는 그 꿈을 닮아간다\"\n",
        "\n",
        "token=Tokenizer()\n",
        "token.fit_on_texts([text])\n",
        "print(token.word_index)"
      ],
      "metadata": {
        "colab": {
          "base_uri": "https://localhost:8080/"
        },
        "id": "OoPLr7QeM-iM",
        "outputId": "46428cc3-635d-468f-9737-69c1de605260"
      },
      "execution_count": 11,
      "outputs": [
        {
          "output_type": "stream",
          "name": "stdout",
          "text": [
            "{'오랫동안': 1, '꿈꾸는': 2, '이는': 3, '그': 4, '꿈을': 5, '닮아간다': 6}\n"
          ]
        }
      ]
    },
    {
      "cell_type": "code",
      "source": [
        "x=token.texts_to_sequences([text]) # texts_to_sequences: 앞서 만들어진 토큰의 인덱스로 바꾸기\n",
        "print(x)"
      ],
      "metadata": {
        "colab": {
          "base_uri": "https://localhost:8080/"
        },
        "id": "pwSr1-fCP3Ox",
        "outputId": "858ef9aa-4a67-4b64-9f80-bfc4a61282eb"
      },
      "execution_count": 12,
      "outputs": [
        {
          "output_type": "stream",
          "name": "stdout",
          "text": [
            "[[1, 2, 3, 4, 5, 6]]\n"
          ]
        }
      ]
    },
    {
      "cell_type": "code",
      "source": [
        "from keras.utils import to_categorical # to_categorical: 원-핫 인코딩 과정 진행\n",
        "\n",
        "# 인덱스 수에 하나를 추가해서 원-핫 인코딩 배열 만들기\n",
        "word_size=len(token.word_index)+1\n",
        "x=to_categorical(x,num_classes=word_size)\n",
        "\n",
        "print(x)"
      ],
      "metadata": {
        "colab": {
          "base_uri": "https://localhost:8080/"
        },
        "id": "q5rDdTVGP-L6",
        "outputId": "64d921d2-1a6e-45ac-fab8-2155c615723e"
      },
      "execution_count": 14,
      "outputs": [
        {
          "output_type": "stream",
          "name": "stdout",
          "text": [
            "[[[0. 1. 0. 0. 0. 0. 0.]\n",
            "  [0. 0. 1. 0. 0. 0. 0.]\n",
            "  [0. 0. 0. 1. 0. 0. 0.]\n",
            "  [0. 0. 0. 0. 1. 0. 0.]\n",
            "  [0. 0. 0. 0. 0. 1. 0.]\n",
            "  [0. 0. 0. 0. 0. 0. 1.]]]\n"
          ]
        }
      ]
    },
    {
      "cell_type": "markdown",
      "source": [
        "<hr>"
      ],
      "metadata": {
        "id": "9AOwLrNmQTjr"
      }
    },
    {
      "cell_type": "markdown",
      "source": [
        "## 3. 단어 임베딩"
      ],
      "metadata": {
        "id": "-HDpexScQXHm"
      }
    },
    {
      "cell_type": "markdown",
      "source": [
        "단어 임베딩: 주어진 배열을 정해진 길이로 압축시켜 공간적 낭비를 해결함"
      ],
      "metadata": {
        "id": "czZbuNH8QZj0"
      }
    },
    {
      "cell_type": "markdown",
      "source": [
        "단어 임베딩으로 얻은 결과가 밀집된 정보를 가지고 있고 공간의 낭비가 적다는 것을 알 수 있음 <br>\n",
        "→ 각 단어 간의 유사도를 계산했기 때문"
      ],
      "metadata": {
        "id": "uxsHr5fdQyFS"
      }
    },
    {
      "cell_type": "markdown",
      "source": [
        "단어 간 유사도 계산 → 오차 역전파를 이용"
      ],
      "metadata": {
        "id": "98cQT2cqQ_FH"
      }
    },
    {
      "cell_type": "code",
      "source": [
        "from keras.layers import Embedding\n",
        "from tensorflow.keras.models import Sequential\n",
        "\n",
        "model=Sequential()\n",
        "model.add(Embedding(16,4))"
      ],
      "metadata": {
        "id": "rPdiMl6iQRLk"
      },
      "execution_count": 28,
      "outputs": []
    },
    {
      "cell_type": "markdown",
      "source": [
        "Embedding() 함수는 최소 2개의 매개변수가 필요 → 입력, 출력 <br>\n",
        "Embedding(16,4)에서 입력될 총 단어 수는 16개, 출력되는 벡터 크기는 4로 지정 <br>\n",
        "Embedding(16,4,input_length=2)는 총 단어 수는 16개지만, 매번 2개씩만 넣겠다는 뜻임"
      ],
      "metadata": {
        "id": "1KH2NEFeSClN"
      }
    },
    {
      "cell_type": "markdown",
      "source": [
        "<hr>"
      ],
      "metadata": {
        "id": "CuAfGzX4Ssv4"
      }
    },
    {
      "cell_type": "markdown",
      "source": [
        "## 4. 텍스트를 읽고 긍정, 부정 예측하기"
      ],
      "metadata": {
        "id": "1RVr40XGSt6u"
      }
    },
    {
      "cell_type": "code",
      "source": [
        "# 텍스트로 리뷰 자료 지정\n",
        "import numpy\n",
        "from numpy import array\n",
        "docs=['너무 재밌네요','최고예요','참 잘 만든 영화예요','추천하고 싶은 영화입니다.',\n",
        "      '한 번 더 보고싶네요','글쎄요','별로예요','생각보다 지루하네요',\n",
        "      '연기가 어색해요','재미없어요']\n",
        "\n",
        "# 긍정 리뷰는 1, 부정 리뷰는 0으로 클래스 지정\n",
        "classes = array([1,1,1,1,1,0,0,0,0,0])"
      ],
      "metadata": {
        "id": "eurIyj-wReWy"
      },
      "execution_count": 37,
      "outputs": []
    },
    {
      "cell_type": "code",
      "source": [
        "# 토큰화\n",
        "token=Tokenizer()\n",
        "token.fit_on_texts(docs) # fit_on_text:각 단어를 하나의 토큰으로 변환\n",
        "print(token.word_index) # 토큰화 된 결과를 출력해 확인"
      ],
      "metadata": {
        "colab": {
          "base_uri": "https://localhost:8080/"
        },
        "id": "DINatDG-TB9j",
        "outputId": "2ecb5525-6bae-4d69-ff14-2748d759ae85"
      },
      "execution_count": 21,
      "outputs": [
        {
          "output_type": "stream",
          "name": "stdout",
          "text": [
            "{'너무': 1, '재밌네요': 2, '최고예요': 3, '참': 4, '잘': 5, '만든': 6, '영화예요': 7, '추천하고': 8, '싶은': 9, '영화입니다': 10, '한': 11, '번': 12, '더': 13, '보고싶네요': 14, '글쎄요': 15, '별로예요': 16, '생각보다': 17, '지루하네요': 18, '연기가': 19, '어색해요': 20, '재미없어요': 21}\n"
          ]
        }
      ]
    },
    {
      "cell_type": "code",
      "source": [
        "x=token.texts_to_sequences(docs)\n",
        "print(x)"
      ],
      "metadata": {
        "colab": {
          "base_uri": "https://localhost:8080/"
        },
        "id": "QUH5ElrsTejr",
        "outputId": "2bf6391e-c9b3-4693-d278-9448aae2d566"
      },
      "execution_count": 22,
      "outputs": [
        {
          "output_type": "stream",
          "name": "stdout",
          "text": [
            "[[1, 2], [3], [4, 5, 6, 7], [8, 9, 10], [11, 12, 13, 14], [15], [16], [17, 18], [19, 20], [21]]\n"
          ]
        }
      ]
    },
    {
      "cell_type": "markdown",
      "source": [
        "패딩: 길이를 똑같이 맞춰 주는 작업 <br>\n",
        "pad_sequence() 함수를 사용하면 원하는 길이보다 짧은 부분은 숫자 0을 넣어서 채우고, <br> 긴 데이터는 잘라서 같은 길이로 맞춤"
      ],
      "metadata": {
        "id": "LxR1YzOZT136"
      }
    },
    {
      "cell_type": "code",
      "source": [
        "from tensorflow.keras.preprocessing.sequence import pad_sequences\n",
        "\n",
        "padded_x=pad_sequences(x,4) # 서로 다른 길이의 데이터를 4로 맞추기\n",
        "print(padded_x)"
      ],
      "metadata": {
        "colab": {
          "base_uri": "https://localhost:8080/"
        },
        "id": "OxEdvqCRTp0N",
        "outputId": "763c1a89-417f-4ecf-f4ad-8b687218c335"
      },
      "execution_count": 40,
      "outputs": [
        {
          "output_type": "stream",
          "name": "stdout",
          "text": [
            "[[ 0  0  1  2]\n",
            " [ 0  0  0  3]\n",
            " [ 4  5  6  7]\n",
            " [ 0  8  9 10]\n",
            " [11 12 13 14]\n",
            " [ 0  0  0 15]\n",
            " [ 0  0  0 16]\n",
            " [ 0  0 17 18]\n",
            " [ 0  0 19 20]\n",
            " [ 0  0  0 21]]\n"
          ]
        }
      ]
    },
    {
      "cell_type": "markdown",
      "source": [
        "임베딩 함수에 필요한 세 가지 파라미터: 입력, 출력, 단어 수 <br>\n",
        "총 몇 개의 단어 집합에서(입력), 몇 개의 임베딩 결과를 사용할 것인지(출력), 그리고 매번 입력될 단어 수는 몇 개로 할지(단어 수)를 정해야 함"
      ],
      "metadata": {
        "id": "OBsaQpzVWHmF"
      }
    },
    {
      "cell_type": "markdown",
      "source": [
        "- 총 몇 개의 인덱스가 '입력'되어야 하는지 정하기"
      ],
      "metadata": {
        "id": "RJR-63XWWbLL"
      }
    },
    {
      "cell_type": "code",
      "source": [
        "word_size=len(token.word_index)+1"
      ],
      "metadata": {
        "id": "WechWXccUFbd"
      },
      "execution_count": 24,
      "outputs": []
    },
    {
      "cell_type": "markdown",
      "source": [
        "- 몇 개의 임베딩 결과를 사용할 것인지, 즉 '출력'을 정하기"
      ],
      "metadata": {
        "id": "gcdJUGWaWfr1"
      }
    },
    {
      "cell_type": "code",
      "source": [
        "Embedding(word_size,8,input_length=4)"
      ],
      "metadata": {
        "colab": {
          "base_uri": "https://localhost:8080/"
        },
        "id": "P1eiBVaPWjCu",
        "outputId": "707132b2-de32-45de-da91-ba2950f9ef8c"
      },
      "execution_count": 25,
      "outputs": [
        {
          "output_type": "execute_result",
          "data": {
            "text/plain": [
              "<keras.src.layers.core.embedding.Embedding at 0x7a956343be80>"
            ]
          },
          "metadata": {},
          "execution_count": 25
        }
      ]
    },
    {
      "cell_type": "code",
      "source": [
        "# 단어 임베딩을 포함하여 딥러닝 모델을 만들고 결과를 출력\n",
        "from tensorflow.keras.models import Sequential\n",
        "from tensorflow.keras.layers import Dense,Flatten\n",
        "from tensorflow.keras.preprocessing.sequence import pad_sequences\n",
        "\n",
        "model=Sequential()\n",
        "model.add(Embedding(word_size,8,input_length=4))\n",
        "model.add(Flatten())\n",
        "model.add(Dense(1,activation='sigmoid'))\n",
        "model.compile(optimizer='adam',loss='binary_crossentropy', metrics=['accuracy'])\n",
        "model.fit(padded_x,classes,epochs=20)\n",
        "print(\"\\n Accuracy: %.4f\"%(model.evaluate(padded_x,classes)[1]))"
      ],
      "metadata": {
        "colab": {
          "base_uri": "https://localhost:8080/"
        },
        "id": "m13aBbNXWmaB",
        "outputId": "53bfbb17-dac5-45cd-c723-58313c7730d4"
      },
      "execution_count": 45,
      "outputs": [
        {
          "output_type": "stream",
          "name": "stdout",
          "text": [
            "Epoch 1/20\n",
            "1/1 [==============================] - 1s 922ms/step - loss: 0.6939 - accuracy: 0.5000\n",
            "Epoch 2/20\n",
            "1/1 [==============================] - 0s 10ms/step - loss: 0.6918 - accuracy: 0.6000\n",
            "Epoch 3/20\n",
            "1/1 [==============================] - 0s 12ms/step - loss: 0.6897 - accuracy: 0.6000\n",
            "Epoch 4/20\n",
            "1/1 [==============================] - 0s 12ms/step - loss: 0.6876 - accuracy: 0.6000\n",
            "Epoch 5/20\n",
            "1/1 [==============================] - 0s 11ms/step - loss: 0.6855 - accuracy: 0.7000\n",
            "Epoch 6/20\n",
            "1/1 [==============================] - 0s 10ms/step - loss: 0.6834 - accuracy: 0.8000\n",
            "Epoch 7/20\n",
            "1/1 [==============================] - 0s 10ms/step - loss: 0.6813 - accuracy: 0.8000\n",
            "Epoch 8/20\n",
            "1/1 [==============================] - 0s 11ms/step - loss: 0.6792 - accuracy: 0.8000\n",
            "Epoch 9/20\n",
            "1/1 [==============================] - 0s 12ms/step - loss: 0.6770 - accuracy: 0.8000\n",
            "Epoch 10/20\n",
            "1/1 [==============================] - 0s 12ms/step - loss: 0.6749 - accuracy: 0.8000\n",
            "Epoch 11/20\n",
            "1/1 [==============================] - 0s 10ms/step - loss: 0.6728 - accuracy: 0.8000\n",
            "Epoch 12/20\n",
            "1/1 [==============================] - 0s 10ms/step - loss: 0.6707 - accuracy: 0.8000\n",
            "Epoch 13/20\n",
            "1/1 [==============================] - 0s 11ms/step - loss: 0.6685 - accuracy: 0.8000\n",
            "Epoch 14/20\n",
            "1/1 [==============================] - 0s 11ms/step - loss: 0.6664 - accuracy: 0.8000\n",
            "Epoch 15/20\n",
            "1/1 [==============================] - 0s 11ms/step - loss: 0.6642 - accuracy: 0.8000\n",
            "Epoch 16/20\n",
            "1/1 [==============================] - 0s 9ms/step - loss: 0.6621 - accuracy: 0.8000\n",
            "Epoch 17/20\n",
            "1/1 [==============================] - 0s 11ms/step - loss: 0.6599 - accuracy: 0.8000\n",
            "Epoch 18/20\n",
            "1/1 [==============================] - 0s 9ms/step - loss: 0.6577 - accuracy: 0.8000\n",
            "Epoch 19/20\n",
            "1/1 [==============================] - 0s 10ms/step - loss: 0.6555 - accuracy: 0.8000\n",
            "Epoch 20/20\n",
            "1/1 [==============================] - 0s 10ms/step - loss: 0.6532 - accuracy: 0.8000\n",
            "1/1 [==============================] - 0s 167ms/step - loss: 0.6510 - accuracy: 0.8000\n",
            "\n",
            " Accuracy: 0.8000\n"
          ]
        }
      ]
    },
    {
      "cell_type": "markdown",
      "source": [
        "### 영화 리뷰가 긍정적인지 부정적인지 예측하기"
      ],
      "metadata": {
        "id": "5F5O_gQQXGyx"
      }
    },
    {
      "cell_type": "code",
      "source": [
        "import numpy\n",
        "import tensorflow as tf\n",
        "from numpy import array\n",
        "from tensorflow.keras.preprocessing.text import Tokenizer\n",
        "from tensorflow.keras.preprocessing.sequence import pad_sequences\n",
        "from tensorflow.keras.models import Sequential\n",
        "from tensorflow.keras.layers import Dense,Flatten,Embedding\n",
        "from tensorflow.keras.utils import to_categorical\n",
        "\n",
        "# 텍스트 리뷰 자료 지정\n",
        "docs=['너무 재밌네요','최고예요','참 잘 만든 영화예요','추천하고 싶은 영화입니다.',\n",
        "      '한 번 더 보고싶네요','글쎄요','별로예요','생각보다 지루하네요',\n",
        "      '연기가 어색해요','재미없어요']\n",
        "\n",
        "# 긍정 리뷰는 1, 부정 리뷰는 0으로 클래스 지정\n",
        "classes = array([1,1,1,1,1,0,0,0,0,0])\n",
        "\n",
        "# 토큰화\n",
        "token=Tokenizer()\n",
        "token.fit_on_texts(docs)\n",
        "print(token.word_index)\n",
        "\n",
        "# 패딩, 서로 다른 길이의 데이터를 4로 맞춤\n",
        "padded_x=pad_sequences(x,4)\n",
        "\"\\n패딩 결과\\n\",print(padded_x)\n",
        "\n",
        "#임베딩에 입력될 단어 수 지정\n",
        "word_size=len(token.word_index)+1\n",
        "\n",
        "# 단어 임베딩을 포함하여 딥러닝 모델을 만들고 결과 출력\n",
        "model=Sequential()\n",
        "model.add(Embedding(word_size,8,input_length=4))\n",
        "model.add(Flatten())\n",
        "model.add(Dense(1,activation='sigmoid'))\n",
        "model.compile(optimizer='adam',loss='binary_crossentropy', metrics=['accuracy'])\n",
        "model.fit(padded_x,classes,epochs=20)\n",
        "\n",
        "print(\"\\n Accuracy: %.4f\"%(model.evaluate(padded_x,classes)[1]))"
      ],
      "metadata": {
        "colab": {
          "base_uri": "https://localhost:8080/"
        },
        "id": "O-DthXYlXFIT",
        "outputId": "2a222747-73ee-484f-a831-2b8d05f45725"
      },
      "execution_count": 46,
      "outputs": [
        {
          "output_type": "stream",
          "name": "stdout",
          "text": [
            "{'너무': 1, '재밌네요': 2, '최고예요': 3, '참': 4, '잘': 5, '만든': 6, '영화예요': 7, '추천하고': 8, '싶은': 9, '영화입니다': 10, '한': 11, '번': 12, '더': 13, '보고싶네요': 14, '글쎄요': 15, '별로예요': 16, '생각보다': 17, '지루하네요': 18, '연기가': 19, '어색해요': 20, '재미없어요': 21}\n",
            "[[ 0  0  1  2]\n",
            " [ 0  0  0  3]\n",
            " [ 4  5  6  7]\n",
            " [ 0  8  9 10]\n",
            " [11 12 13 14]\n",
            " [ 0  0  0 15]\n",
            " [ 0  0  0 16]\n",
            " [ 0  0 17 18]\n",
            " [ 0  0 19 20]\n",
            " [ 0  0  0 21]]\n",
            "Epoch 1/20\n",
            "1/1 [==============================] - 1s 607ms/step - loss: 0.7031 - accuracy: 0.3000\n",
            "Epoch 2/20\n",
            "1/1 [==============================] - 0s 10ms/step - loss: 0.7012 - accuracy: 0.3000\n",
            "Epoch 3/20\n",
            "1/1 [==============================] - 0s 15ms/step - loss: 0.6993 - accuracy: 0.3000\n",
            "Epoch 4/20\n",
            "1/1 [==============================] - 0s 11ms/step - loss: 0.6974 - accuracy: 0.4000\n",
            "Epoch 5/20\n",
            "1/1 [==============================] - 0s 12ms/step - loss: 0.6955 - accuracy: 0.5000\n",
            "Epoch 6/20\n",
            "1/1 [==============================] - 0s 13ms/step - loss: 0.6936 - accuracy: 0.6000\n",
            "Epoch 7/20\n",
            "1/1 [==============================] - 0s 11ms/step - loss: 0.6918 - accuracy: 0.6000\n",
            "Epoch 8/20\n",
            "1/1 [==============================] - 0s 13ms/step - loss: 0.6899 - accuracy: 0.7000\n",
            "Epoch 9/20\n",
            "1/1 [==============================] - 0s 10ms/step - loss: 0.6881 - accuracy: 0.7000\n",
            "Epoch 10/20\n",
            "1/1 [==============================] - 0s 11ms/step - loss: 0.6862 - accuracy: 0.7000\n",
            "Epoch 11/20\n",
            "1/1 [==============================] - 0s 11ms/step - loss: 0.6844 - accuracy: 0.7000\n",
            "Epoch 12/20\n",
            "1/1 [==============================] - 0s 11ms/step - loss: 0.6825 - accuracy: 0.7000\n",
            "Epoch 13/20\n",
            "1/1 [==============================] - 0s 11ms/step - loss: 0.6807 - accuracy: 0.7000\n",
            "Epoch 14/20\n",
            "1/1 [==============================] - 0s 11ms/step - loss: 0.6788 - accuracy: 0.7000\n",
            "Epoch 15/20\n",
            "1/1 [==============================] - 0s 10ms/step - loss: 0.6770 - accuracy: 0.8000\n",
            "Epoch 16/20\n",
            "1/1 [==============================] - 0s 10ms/step - loss: 0.6751 - accuracy: 0.8000\n",
            "Epoch 17/20\n",
            "1/1 [==============================] - 0s 13ms/step - loss: 0.6732 - accuracy: 0.8000\n",
            "Epoch 18/20\n",
            "1/1 [==============================] - 0s 13ms/step - loss: 0.6713 - accuracy: 0.8000\n",
            "Epoch 19/20\n",
            "1/1 [==============================] - 0s 11ms/step - loss: 0.6695 - accuracy: 0.8000\n",
            "Epoch 20/20\n",
            "1/1 [==============================] - 0s 12ms/step - loss: 0.6676 - accuracy: 0.8000\n",
            "1/1 [==============================] - 0s 128ms/step - loss: 0.6657 - accuracy: 0.8000\n",
            "\n",
            " Accuracy: 0.8000\n"
          ]
        }
      ]
    }
  ]
}