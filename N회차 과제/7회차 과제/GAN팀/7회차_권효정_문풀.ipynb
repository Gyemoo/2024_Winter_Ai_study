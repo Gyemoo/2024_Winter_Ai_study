{
  "nbformat": 4,
  "nbformat_minor": 0,
  "metadata": {
    "colab": {
      "provenance": []
    },
    "kernelspec": {
      "name": "python3",
      "display_name": "Python 3"
    },
    "language_info": {
      "name": "python"
    }
  },
  "cells": [
    {
      "cell_type": "markdown",
      "source": [
        "## 문제1. 다음 글을 읽고 빈칸에 해당하는 단어에 알맞은 설명을 고르시오\n",
        "\n",
        "> *컨볼루션 신경망이란?*\n",
        ">\n",
        ">\n",
        "> 입력된 이미지에서 다시 한번 특징을 추출하기 위해 ______을 도입하는 기법\n",
        ">\n",
        "\n",
        "1. 신경망의 학습 속도를 결정한다.\n",
        "2. 데이터의 차원을 바꾼다.\n",
        "3. 특징 추출을 위해 입력 데이터에 필터를 적용한다."
      ],
      "metadata": {
        "id": "9kYo3aWxgCEO"
      }
    },
    {
      "cell_type": "markdown",
      "source": [
        "답: 커널 <br>\n",
        "3. 특징 추출을 위해 입력 데이터에 필터를 적용한다."
      ],
      "metadata": {
        "id": "CrchCOragKaH"
      }
    },
    {
      "cell_type": "markdown",
      "source": [
        "<hr>"
      ],
      "metadata": {
        "id": "Bbud-UglgHTY"
      }
    },
    {
      "cell_type": "markdown",
      "source": [
        "## 문제2.\n",
        "다음은 Convolution 연산을 1차원 리스트로 단순화 시킨 convolve1d 함수입니다. 주석에 따라 ### 부분의 코드를 채워주세요"
      ],
      "metadata": {
        "id": "F2-3ydpzglE2"
      }
    },
    {
      "cell_type": "code",
      "source": [
        "def convolve1d(input_list, kernel):\n",
        "    # 커널의 길이 계산\n",
        "    kernel_length = len(kernel)\n",
        "    # 입력 리스트의 길이 계산\n",
        "    input_length = len(input_list)\n",
        "    # 출력 리스트의 길이 계산\n",
        "    output_length = input_length - kernel_length + 1\n",
        "\n",
        "    # 결과를 저장할 리스트 초기화\n",
        "    output_list = []\n",
        "\n",
        "    # 합성곱 연산을 위한 외부 루프\n",
        "    # 'start'는 합성곱 연산이 시작되는 입력 리스트의 인덱스를 나타냄\n",
        "    for start in range(output_length):\n",
        "        # 각 위치에서의 합성곱 결과를 저장할 변수 초기화\n",
        "        ###\n",
        "\n",
        "        # 합성곱 연산을 위한 내부 루프\n",
        "        # 'i'는 커널 내의 인덱스를 나타냄\n",
        "        ###\n",
        "            # 입력 리스트의 현재 요소와 커널의 해당 요소를 곱한 값을 누적\n",
        "            ###\n",
        "\n",
        "        # 계산된 합성곱 결과를 출력 리스트에 추가\n",
        "        ###\n",
        "\n",
        "    # 완성된 출력 리스트 반환\n",
        "    return output_list\n",
        "\n",
        "# 예시 사용\n",
        "input_list = [1, 2, 3, 4, 5]\n",
        "kernel = [1, 0, -1]\n",
        "print(convolve1d(input_list, kernel))\n",
        "# output: [-2,-2,-2]\n"
      ],
      "metadata": {
        "id": "iLhrOLe0goir"
      },
      "execution_count": null,
      "outputs": []
    },
    {
      "cell_type": "markdown",
      "source": [
        "답"
      ],
      "metadata": {
        "id": "0tk_thYbgwUC"
      }
    },
    {
      "cell_type": "code",
      "source": [
        "def convolve1d(input_list, kernel):\n",
        "    # 커널의 길이 계산\n",
        "    kernel_length = len(kernel)\n",
        "    # 입력 리스트의 길이 계산\n",
        "    input_length = len(input_list)\n",
        "    # 출력 리스트의 길이 계산\n",
        "    output_length = input_length - kernel_length + 1\n",
        "\n",
        "    # 결과를 저장할 리스트 초기화\n",
        "    output_list = []\n",
        "\n",
        "    # 합성곱 연산을 위한 외부 루프\n",
        "    # 'start'는 합성곱 연산이 시작되는 입력 리스트의 인덱스를 나타냄\n",
        "    for start in range(output_length):\n",
        "        # 각 위치에서의 합성곱 결과를 저장할 변수 초기화\n",
        "        conv_sum=0\n",
        "\n",
        "        # 합성곱 연산을 위한 내부 루프\n",
        "        # 'i'는 커널 내의 인덱스를 나타냄\n",
        "        for i in range(kernel_length):\n",
        "            # 입력 리스트의 현재 요소와 커널의 해당 요소를 곱한 값을 누적\n",
        "            conv_sum+=input_list[start+i]*kernel[i]\n",
        "\n",
        "        # 계산된 합성곱 결과를 출력 리스트에 추가\n",
        "        output_list.append(conv_sum)\n",
        "\n",
        "    # 완성된 출력 리스트 반환\n",
        "    return output_list\n",
        "\n",
        "# 예시 사용\n",
        "input_list = [1, 2, 3, 4, 5]\n",
        "kernel = [1, 0, -1]\n",
        "print(convolve1d(input_list, kernel))\n",
        "# output: [-2,-2,-2]\n"
      ],
      "metadata": {
        "colab": {
          "base_uri": "https://localhost:8080/"
        },
        "id": "1gPXQKPCgwyG",
        "outputId": "50c1e2ac-7bd5-4549-fffd-0d8b56015637"
      },
      "execution_count": 3,
      "outputs": [
        {
          "output_type": "stream",
          "name": "stdout",
          "text": [
            "[-2, -2, -2]\n"
          ]
        }
      ]
    }
  ]
}