{
  "nbformat": 4,
  "nbformat_minor": 0,
  "metadata": {
    "colab": {
      "provenance": []
    },
    "kernelspec": {
      "name": "python3",
      "display_name": "Python 3"
    },
    "language_info": {
      "name": "python"
    }
  },
  "cells": [
    {
      "cell_type": "markdown",
      "source": [
        "# 13장. 과적합 피하기"
      ],
      "metadata": {
        "id": "mBZhdqDEqU2O"
      }
    },
    {
      "cell_type": "markdown",
      "source": [
        "머신러닝을 하는 사람이라면 과적합 문제를 반드시 극복해야 함"
      ],
      "metadata": {
        "id": "ilDC8eW4q3_p"
      }
    },
    {
      "cell_type": "markdown",
      "source": [
        "<hr>"
      ],
      "metadata": {
        "id": "09S0WBxXq7GR"
      }
    },
    {
      "cell_type": "markdown",
      "source": [
        "## 1. 데이터의 확인과 실행"
      ],
      "metadata": {
        "id": "iUsuCh6Aq74M"
      }
    },
    {
      "cell_type": "code",
      "execution_count": 1,
      "metadata": {
        "colab": {
          "base_uri": "https://localhost:8080/"
        },
        "id": "3NEDb7LdqQCD",
        "outputId": "64052696-0312-4ef1-a90e-c7eb7bc3d0c5"
      },
      "outputs": [
        {
          "output_type": "stream",
          "name": "stdout",
          "text": [
            "<class 'pandas.core.frame.DataFrame'>\n",
            "RangeIndex: 208 entries, 0 to 207\n",
            "Data columns (total 61 columns):\n",
            " #   Column  Non-Null Count  Dtype  \n",
            "---  ------  --------------  -----  \n",
            " 0   0       208 non-null    float64\n",
            " 1   1       208 non-null    float64\n",
            " 2   2       208 non-null    float64\n",
            " 3   3       208 non-null    float64\n",
            " 4   4       208 non-null    float64\n",
            " 5   5       208 non-null    float64\n",
            " 6   6       208 non-null    float64\n",
            " 7   7       208 non-null    float64\n",
            " 8   8       208 non-null    float64\n",
            " 9   9       208 non-null    float64\n",
            " 10  10      208 non-null    float64\n",
            " 11  11      208 non-null    float64\n",
            " 12  12      208 non-null    float64\n",
            " 13  13      208 non-null    float64\n",
            " 14  14      208 non-null    float64\n",
            " 15  15      208 non-null    float64\n",
            " 16  16      208 non-null    float64\n",
            " 17  17      208 non-null    float64\n",
            " 18  18      208 non-null    float64\n",
            " 19  19      208 non-null    float64\n",
            " 20  20      208 non-null    float64\n",
            " 21  21      208 non-null    float64\n",
            " 22  22      208 non-null    float64\n",
            " 23  23      208 non-null    float64\n",
            " 24  24      208 non-null    float64\n",
            " 25  25      208 non-null    float64\n",
            " 26  26      208 non-null    float64\n",
            " 27  27      208 non-null    float64\n",
            " 28  28      208 non-null    float64\n",
            " 29  29      208 non-null    float64\n",
            " 30  30      208 non-null    float64\n",
            " 31  31      208 non-null    float64\n",
            " 32  32      208 non-null    float64\n",
            " 33  33      208 non-null    float64\n",
            " 34  34      208 non-null    float64\n",
            " 35  35      208 non-null    float64\n",
            " 36  36      208 non-null    float64\n",
            " 37  37      208 non-null    float64\n",
            " 38  38      208 non-null    float64\n",
            " 39  39      208 non-null    float64\n",
            " 40  40      208 non-null    float64\n",
            " 41  41      208 non-null    float64\n",
            " 42  42      208 non-null    float64\n",
            " 43  43      208 non-null    float64\n",
            " 44  44      208 non-null    float64\n",
            " 45  45      208 non-null    float64\n",
            " 46  46      208 non-null    float64\n",
            " 47  47      208 non-null    float64\n",
            " 48  48      208 non-null    float64\n",
            " 49  49      208 non-null    float64\n",
            " 50  50      208 non-null    float64\n",
            " 51  51      208 non-null    float64\n",
            " 52  52      208 non-null    float64\n",
            " 53  53      208 non-null    float64\n",
            " 54  54      208 non-null    float64\n",
            " 55  55      208 non-null    float64\n",
            " 56  56      208 non-null    float64\n",
            " 57  57      208 non-null    float64\n",
            " 58  58      208 non-null    float64\n",
            " 59  59      208 non-null    float64\n",
            " 60  60      208 non-null    object \n",
            "dtypes: float64(60), object(1)\n",
            "memory usage: 99.2+ KB\n",
            "None\n"
          ]
        }
      ],
      "source": [
        "import pandas as pd\n",
        "df=pd.read_csv('/content/sonar.csv', header=None)\n",
        "print(df.info())"
      ]
    },
    {
      "cell_type": "code",
      "source": [
        "print(df.head())"
      ],
      "metadata": {
        "colab": {
          "base_uri": "https://localhost:8080/"
        },
        "id": "62IlK47nrFfr",
        "outputId": "ff71dee0-ba57-4e49-9ba7-70b98ec5e519"
      },
      "execution_count": 2,
      "outputs": [
        {
          "output_type": "stream",
          "name": "stdout",
          "text": [
            "       0       1       2       3       4       5       6       7       8   \\\n",
            "0  0.0200  0.0371  0.0428  0.0207  0.0954  0.0986  0.1539  0.1601  0.3109   \n",
            "1  0.0453  0.0523  0.0843  0.0689  0.1183  0.2583  0.2156  0.3481  0.3337   \n",
            "2  0.0262  0.0582  0.1099  0.1083  0.0974  0.2280  0.2431  0.3771  0.5598   \n",
            "3  0.0100  0.0171  0.0623  0.0205  0.0205  0.0368  0.1098  0.1276  0.0598   \n",
            "4  0.0762  0.0666  0.0481  0.0394  0.0590  0.0649  0.1209  0.2467  0.3564   \n",
            "\n",
            "       9   ...      51      52      53      54      55      56      57  \\\n",
            "0  0.2111  ...  0.0027  0.0065  0.0159  0.0072  0.0167  0.0180  0.0084   \n",
            "1  0.2872  ...  0.0084  0.0089  0.0048  0.0094  0.0191  0.0140  0.0049   \n",
            "2  0.6194  ...  0.0232  0.0166  0.0095  0.0180  0.0244  0.0316  0.0164   \n",
            "3  0.1264  ...  0.0121  0.0036  0.0150  0.0085  0.0073  0.0050  0.0044   \n",
            "4  0.4459  ...  0.0031  0.0054  0.0105  0.0110  0.0015  0.0072  0.0048   \n",
            "\n",
            "       58      59  60  \n",
            "0  0.0090  0.0032   R  \n",
            "1  0.0052  0.0044   R  \n",
            "2  0.0095  0.0078   R  \n",
            "3  0.0040  0.0117   R  \n",
            "4  0.0107  0.0094   R  \n",
            "\n",
            "[5 rows x 61 columns]\n"
          ]
        }
      ]
    },
    {
      "cell_type": "code",
      "source": [
        "from tensorflow.keras.models import Sequential\n",
        "from tensorflow.keras.layers import Dense\n",
        "from sklearn.preprocessing import LabelEncoder"
      ],
      "metadata": {
        "id": "oTa7nUKDrLIu"
      },
      "execution_count": 5,
      "outputs": []
    },
    {
      "cell_type": "code",
      "source": [
        "import pandas as pd\n",
        "import numpy as np\n",
        "import tensorflow as tf"
      ],
      "metadata": {
        "id": "sj0JyascrUSX"
      },
      "execution_count": 6,
      "outputs": []
    },
    {
      "cell_type": "code",
      "source": [
        "# seed 값 설정\n",
        "np.random.seed(3)\n",
        "tf.random.set_seed(3)"
      ],
      "metadata": {
        "id": "Z0oyP5Brrro2"
      },
      "execution_count": 7,
      "outputs": []
    },
    {
      "cell_type": "code",
      "source": [
        "# 데이터 입력\n",
        "df=pd.read_csv('/content/sonar.csv', header=None)\n",
        "\n",
        "dataset=df.values\n",
        "X=dataset[:,0:60].astype(float)\n",
        "Y_obj=dataset[:,60]"
      ],
      "metadata": {
        "id": "5XIe4c9-ru5q"
      },
      "execution_count": 41,
      "outputs": []
    },
    {
      "cell_type": "code",
      "source": [
        "# 문자열 변환\n",
        "e=LabelEncoder()\n",
        "e.fit(Y_obj)\n",
        "Y=e.transform(Y_obj)"
      ],
      "metadata": {
        "id": "FL5yfzy4r20n"
      },
      "execution_count": 9,
      "outputs": []
    },
    {
      "cell_type": "code",
      "source": [
        "# 모델 설정\n",
        "model=Sequential()\n",
        "model.add(Dense(24,input_dim=60,activation='relu'))\n",
        "model.add(Dense(10,activation='relu'))\n",
        "model.add(Dense(1,activation='sigmoid'))"
      ],
      "metadata": {
        "id": "x1Wm4qs2r8E7"
      },
      "execution_count": 10,
      "outputs": []
    },
    {
      "cell_type": "code",
      "source": [
        "# 모델 컴파일\n",
        "model.compile(loss='binary_crossentropy',\n",
        "              optimizer='adam',\n",
        "              metrics=['accuracy'])"
      ],
      "metadata": {
        "id": "tFYWZDGdsGLH"
      },
      "execution_count": 11,
      "outputs": []
    },
    {
      "cell_type": "code",
      "source": [
        "# 모델 실행\n",
        "model.fit(X,Y,epochs=20,batch_size=5) # 기존 epochs=200\n",
        "\n",
        "# 결과 출력\n",
        "print(\"\\n Accuracy: %.4f\" %(model.evaluate(X,Y)[1]))"
      ],
      "metadata": {
        "colab": {
          "base_uri": "https://localhost:8080/"
        },
        "id": "KUq3ZT17sMd_",
        "outputId": "4efada92-cfec-4153-bf85-1e07459ef4aa"
      },
      "execution_count": 51,
      "outputs": [
        {
          "output_type": "stream",
          "name": "stdout",
          "text": [
            "Epoch 1/20\n",
            "42/42 [==============================] - 1s 2ms/step - loss: 0.1157 - accuracy: 0.8221\n",
            "Epoch 2/20\n",
            "42/42 [==============================] - 0s 3ms/step - loss: 0.1109 - accuracy: 0.8413\n",
            "Epoch 3/20\n",
            "42/42 [==============================] - 0s 3ms/step - loss: 0.1222 - accuracy: 0.8173\n",
            "Epoch 4/20\n",
            "42/42 [==============================] - 0s 2ms/step - loss: 0.1077 - accuracy: 0.8606\n",
            "Epoch 5/20\n",
            "42/42 [==============================] - 0s 2ms/step - loss: 0.1030 - accuracy: 0.8702\n",
            "Epoch 6/20\n",
            "42/42 [==============================] - 0s 2ms/step - loss: 0.1020 - accuracy: 0.8750\n",
            "Epoch 7/20\n",
            "42/42 [==============================] - 0s 3ms/step - loss: 0.0987 - accuracy: 0.8750\n",
            "Epoch 8/20\n",
            "42/42 [==============================] - 0s 2ms/step - loss: 0.1006 - accuracy: 0.8702\n",
            "Epoch 9/20\n",
            "42/42 [==============================] - 0s 2ms/step - loss: 0.0957 - accuracy: 0.8990\n",
            "Epoch 10/20\n",
            "42/42 [==============================] - 0s 2ms/step - loss: 0.0960 - accuracy: 0.8654\n",
            "Epoch 11/20\n",
            "42/42 [==============================] - 0s 3ms/step - loss: 0.0977 - accuracy: 0.8894\n",
            "Epoch 12/20\n",
            "42/42 [==============================] - 0s 2ms/step - loss: 0.0897 - accuracy: 0.8798\n",
            "Epoch 13/20\n",
            "42/42 [==============================] - 0s 3ms/step - loss: 0.0891 - accuracy: 0.8798\n",
            "Epoch 14/20\n",
            "42/42 [==============================] - 0s 3ms/step - loss: 0.0882 - accuracy: 0.8894\n",
            "Epoch 15/20\n",
            "42/42 [==============================] - 0s 3ms/step - loss: 0.0849 - accuracy: 0.8942\n",
            "Epoch 16/20\n",
            "42/42 [==============================] - 0s 3ms/step - loss: 0.0837 - accuracy: 0.9038\n",
            "Epoch 17/20\n",
            "42/42 [==============================] - 0s 4ms/step - loss: 0.0820 - accuracy: 0.8846\n",
            "Epoch 18/20\n",
            "42/42 [==============================] - 0s 3ms/step - loss: 0.0836 - accuracy: 0.8942\n",
            "Epoch 19/20\n",
            "42/42 [==============================] - 0s 3ms/step - loss: 0.0826 - accuracy: 0.9038\n",
            "Epoch 20/20\n",
            "42/42 [==============================] - 0s 3ms/step - loss: 0.0783 - accuracy: 0.9231\n",
            "7/7 [==============================] - 0s 3ms/step - loss: 0.0752 - accuracy: 0.9087\n",
            "\n",
            " Accuracy: 0.9087\n"
          ]
        }
      ]
    },
    {
      "cell_type": "markdown",
      "source": [
        "<hr>"
      ],
      "metadata": {
        "id": "B1nFEbPMsd31"
      }
    },
    {
      "cell_type": "markdown",
      "source": [
        "## 2. 과적합 이해하기"
      ],
      "metadata": {
        "id": "ls53Bi5Osfnq"
      }
    },
    {
      "cell_type": "markdown",
      "source": [
        "과적합: 모델이 학습 데이터셋 안에서는 일정 수준 이상의 예측 정확도를 보이지만, 새로운 데이터에 적용하면 잘 맞지 않는 것"
      ],
      "metadata": {
        "id": "XICTwZr6shTe"
      }
    },
    {
      "cell_type": "markdown",
      "source": [
        "과적합은 층이 너무 많거나 변수가 복잡해서 발생하기도 하고, 테스트셋과 학습셋이 중복될 때 생기기도 함"
      ],
      "metadata": {
        "id": "qZr0cfAKsoOd"
      }
    },
    {
      "cell_type": "markdown",
      "source": [
        "<hr>"
      ],
      "metadata": {
        "id": "ewnHbYPDsudR"
      }
    },
    {
      "cell_type": "markdown",
      "source": [
        "## 3. 학습셋과 테스트셋"
      ],
      "metadata": {
        "id": "uI-LyKXzsvV-"
      }
    },
    {
      "cell_type": "markdown",
      "source": [
        "학습을 하는 데이터셋과 이를 테스트할 데이터셋을 완전히 구분한 다음 학습과 동시에 테스트를 진행하는 것이 과적합 방지의 한 방법임"
      ],
      "metadata": {
        "id": "R_moei4MszF9"
      }
    },
    {
      "cell_type": "markdown",
      "source": [
        "![image.png](data:image/png;base64,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)"
      ],
      "metadata": {
        "id": "fJ29YAJcs9e_"
      }
    },
    {
      "cell_type": "markdown",
      "source": [
        "학습셋만 가지고 평가할 때, 층을 더하거나 에포크 값을 높여 실행 횟수를 늘리면 정확도가 계속해서 올라갈 수 있음. <br>\n",
        "하지만 학습 데이터셋만으로 평가한 예측 성공률이 테스트셋에서도 그대로 나타나지는 않음"
      ],
      "metadata": {
        "id": "0GVkfgMvtDlG"
      }
    },
    {
      "cell_type": "markdown",
      "source": [
        "![image.png](data:image/png;base64,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)"
      ],
      "metadata": {
        "id": "wPQAxKr9tQz8"
      }
    },
    {
      "cell_type": "markdown",
      "source": [
        "학습량이 늘어날수록 학습 데이터를 통한 예측률은 증가하지만, 테스트셋을 이용한 예측률은 오히려 감소함"
      ],
      "metadata": {
        "id": "rZQTT89GtU1p"
      }
    },
    {
      "cell_type": "markdown",
      "source": [
        "테스트에 사용하게 하는 함수: sklearn 라이브러리의 train_test_split() 함수임"
      ],
      "metadata": {
        "id": "nukb_1mGtcs_"
      }
    },
    {
      "cell_type": "code",
      "source": [
        "from sklearn.model_selection import train_test_split\n",
        "\n",
        "# 학습셋과 테스트셋의 구분\n",
        "X_train, X_test, Y_train, Y_test=train_test_split(X,Y,test_size=0.3,random_state=seed)"
      ],
      "metadata": {
        "id": "5gvXozUisVBB"
      },
      "execution_count": 43,
      "outputs": []
    },
    {
      "cell_type": "code",
      "source": [
        "model.fit(X_train,Y_train,epochs=50,batch_size=5) # 기존 epochs=130\n",
        "\n",
        "# 테스트셋에 모델 적용\n",
        "print(\"\\n Test Accuracy: %.4f\" %(model.evaluate(X_test,Y_test)[1]))"
      ],
      "metadata": {
        "colab": {
          "base_uri": "https://localhost:8080/"
        },
        "id": "RhnVitoctqeD",
        "outputId": "b182b79b-7cd5-4a4e-e366-5733841909c4"
      },
      "execution_count": 45,
      "outputs": [
        {
          "output_type": "stream",
          "name": "stdout",
          "text": [
            "Epoch 1/50\n",
            "29/29 [==============================] - 0s 6ms/step - loss: 0.0219 - accuracy: 1.0000\n",
            "Epoch 2/50\n",
            "29/29 [==============================] - 0s 5ms/step - loss: 0.0210 - accuracy: 0.9931\n",
            "Epoch 3/50\n",
            "29/29 [==============================] - 0s 5ms/step - loss: 0.0195 - accuracy: 1.0000\n",
            "Epoch 4/50\n",
            "29/29 [==============================] - 0s 2ms/step - loss: 0.0199 - accuracy: 0.9931\n",
            "Epoch 5/50\n",
            "29/29 [==============================] - 0s 4ms/step - loss: 0.0205 - accuracy: 0.9931\n",
            "Epoch 6/50\n",
            "29/29 [==============================] - 0s 3ms/step - loss: 0.0218 - accuracy: 0.9931\n",
            "Epoch 7/50\n",
            "29/29 [==============================] - 0s 3ms/step - loss: 0.0196 - accuracy: 0.9862\n",
            "Epoch 8/50\n",
            "29/29 [==============================] - 0s 3ms/step - loss: 0.0159 - accuracy: 1.0000\n",
            "Epoch 9/50\n",
            "29/29 [==============================] - 0s 3ms/step - loss: 0.0158 - accuracy: 1.0000\n",
            "Epoch 10/50\n",
            "29/29 [==============================] - 0s 3ms/step - loss: 0.0169 - accuracy: 1.0000\n",
            "Epoch 11/50\n",
            "29/29 [==============================] - 0s 3ms/step - loss: 0.0173 - accuracy: 0.9862\n",
            "Epoch 12/50\n",
            "29/29 [==============================] - 0s 3ms/step - loss: 0.0147 - accuracy: 1.0000\n",
            "Epoch 13/50\n",
            "29/29 [==============================] - 0s 3ms/step - loss: 0.0133 - accuracy: 1.0000\n",
            "Epoch 14/50\n",
            "29/29 [==============================] - 0s 3ms/step - loss: 0.0135 - accuracy: 1.0000\n",
            "Epoch 15/50\n",
            "29/29 [==============================] - 0s 3ms/step - loss: 0.0121 - accuracy: 1.0000\n",
            "Epoch 16/50\n",
            "29/29 [==============================] - 0s 4ms/step - loss: 0.0116 - accuracy: 1.0000\n",
            "Epoch 17/50\n",
            "29/29 [==============================] - 0s 3ms/step - loss: 0.0116 - accuracy: 1.0000\n",
            "Epoch 18/50\n",
            "29/29 [==============================] - 0s 2ms/step - loss: 0.0110 - accuracy: 1.0000\n",
            "Epoch 19/50\n",
            "29/29 [==============================] - 0s 3ms/step - loss: 0.0121 - accuracy: 1.0000\n",
            "Epoch 20/50\n",
            "29/29 [==============================] - 0s 2ms/step - loss: 0.0095 - accuracy: 1.0000\n",
            "Epoch 21/50\n",
            "29/29 [==============================] - 0s 3ms/step - loss: 0.0098 - accuracy: 1.0000\n",
            "Epoch 22/50\n",
            "29/29 [==============================] - 0s 2ms/step - loss: 0.0106 - accuracy: 1.0000\n",
            "Epoch 23/50\n",
            "29/29 [==============================] - 0s 2ms/step - loss: 0.0095 - accuracy: 1.0000\n",
            "Epoch 24/50\n",
            "29/29 [==============================] - 0s 2ms/step - loss: 0.0087 - accuracy: 1.0000\n",
            "Epoch 25/50\n",
            "29/29 [==============================] - 0s 2ms/step - loss: 0.0088 - accuracy: 1.0000\n",
            "Epoch 26/50\n",
            "29/29 [==============================] - 0s 3ms/step - loss: 0.0088 - accuracy: 1.0000\n",
            "Epoch 27/50\n",
            "29/29 [==============================] - 0s 2ms/step - loss: 0.0083 - accuracy: 1.0000\n",
            "Epoch 28/50\n",
            "29/29 [==============================] - 0s 2ms/step - loss: 0.0083 - accuracy: 1.0000\n",
            "Epoch 29/50\n",
            "29/29 [==============================] - 0s 3ms/step - loss: 0.0082 - accuracy: 1.0000\n",
            "Epoch 30/50\n",
            "29/29 [==============================] - 0s 2ms/step - loss: 0.0070 - accuracy: 1.0000\n",
            "Epoch 31/50\n",
            "29/29 [==============================] - 0s 3ms/step - loss: 0.0094 - accuracy: 1.0000\n",
            "Epoch 32/50\n",
            "29/29 [==============================] - 0s 2ms/step - loss: 0.0074 - accuracy: 1.0000\n",
            "Epoch 33/50\n",
            "29/29 [==============================] - 0s 2ms/step - loss: 0.0063 - accuracy: 1.0000\n",
            "Epoch 34/50\n",
            "29/29 [==============================] - 0s 2ms/step - loss: 0.0068 - accuracy: 1.0000\n",
            "Epoch 35/50\n",
            "29/29 [==============================] - 0s 3ms/step - loss: 0.0066 - accuracy: 1.0000\n",
            "Epoch 36/50\n",
            "29/29 [==============================] - 0s 3ms/step - loss: 0.0061 - accuracy: 1.0000\n",
            "Epoch 37/50\n",
            "29/29 [==============================] - 0s 3ms/step - loss: 0.0057 - accuracy: 1.0000\n",
            "Epoch 38/50\n",
            "29/29 [==============================] - 0s 2ms/step - loss: 0.0056 - accuracy: 1.0000\n",
            "Epoch 39/50\n",
            "29/29 [==============================] - 0s 2ms/step - loss: 0.0051 - accuracy: 1.0000\n",
            "Epoch 40/50\n",
            "29/29 [==============================] - 0s 2ms/step - loss: 0.0057 - accuracy: 1.0000\n",
            "Epoch 41/50\n",
            "29/29 [==============================] - 0s 3ms/step - loss: 0.0055 - accuracy: 1.0000\n",
            "Epoch 42/50\n",
            "29/29 [==============================] - 0s 3ms/step - loss: 0.0049 - accuracy: 1.0000\n",
            "Epoch 43/50\n",
            "29/29 [==============================] - 0s 5ms/step - loss: 0.0051 - accuracy: 1.0000\n",
            "Epoch 44/50\n",
            "29/29 [==============================] - 0s 4ms/step - loss: 0.0047 - accuracy: 1.0000\n",
            "Epoch 45/50\n",
            "29/29 [==============================] - 0s 3ms/step - loss: 0.0044 - accuracy: 1.0000\n",
            "Epoch 46/50\n",
            "29/29 [==============================] - 0s 3ms/step - loss: 0.0042 - accuracy: 1.0000\n",
            "Epoch 47/50\n",
            "29/29 [==============================] - 0s 3ms/step - loss: 0.0045 - accuracy: 1.0000\n",
            "Epoch 48/50\n",
            "29/29 [==============================] - 0s 3ms/step - loss: 0.0043 - accuracy: 1.0000\n",
            "Epoch 49/50\n",
            "29/29 [==============================] - 0s 4ms/step - loss: 0.0038 - accuracy: 1.0000\n",
            "Epoch 50/50\n",
            "29/29 [==============================] - 0s 3ms/step - loss: 0.0039 - accuracy: 1.0000\n",
            "2/2 [==============================] - 0s 12ms/step - loss: 0.0958 - accuracy: 0.8730\n",
            "\n",
            " Test Accuracy: 0.8730\n"
          ]
        }
      ]
    },
    {
      "cell_type": "markdown",
      "source": [
        "### 초음파 광물 예측하기: 학습셋과 테스트셋 구분"
      ],
      "metadata": {
        "id": "ZVlYdzE7t7N1"
      }
    },
    {
      "cell_type": "code",
      "source": [
        "from tensorflow.keras.models import Sequential\n",
        "from tensorflow.keras.layers import Dense\n",
        "from sklearn.preprocessing import LabelEncoder\n",
        "from sklearn.model_selection import train_test_split"
      ],
      "metadata": {
        "id": "YVvohqcvt2uV"
      },
      "execution_count": 15,
      "outputs": []
    },
    {
      "cell_type": "code",
      "source": [
        "import pandas as pd\n",
        "import numpy as np\n",
        "import tensorflow as tf"
      ],
      "metadata": {
        "id": "UjYoxHq4uB3r"
      },
      "execution_count": 16,
      "outputs": []
    },
    {
      "cell_type": "code",
      "source": [
        "# seed 값 설정\n",
        "seed=0\n",
        "np.random.seed(seed)\n",
        "tf.random.set_seed(3)\n",
        "df=pd.read_csv('/content/sonar.csv', header=None)\n",
        "\n",
        "dataset=df.values\n",
        "X=dataset[:,0:60].astype(float)\n",
        "Y_obj=dataset[:,60]\n",
        "\n",
        "e=LabelEncoder()\n",
        "e.fit(Y_obj)\n",
        "Y=e.transform(Y_obj)"
      ],
      "metadata": {
        "id": "lbBEBqNtuFIR"
      },
      "execution_count": 46,
      "outputs": []
    },
    {
      "cell_type": "code",
      "source": [
        "# 학습셋과 테스트셋의 구분\n",
        "X_train,X_test,Y_train,Y_test=train_test_split(X,Y,test_size=0.3, random_state=seed)\n",
        "\n",
        "model=Sequential()\n",
        "model.add(Dense(24,input_dim=60,activation='relu'))\n",
        "model.add(Dense(10,activation='relu'))\n",
        "model.add(Dense(1,activation='sigmoid'))\n",
        "\n",
        "model.compile(loss='mean_squared_error',\n",
        "              optimizer='adam',\n",
        "              metrics=['accuracy'])\n",
        "\n",
        "model.fit(X_train,Y_train,epochs=30, batch_size=5) # 기존 epochs=130"
      ],
      "metadata": {
        "colab": {
          "base_uri": "https://localhost:8080/"
        },
        "id": "w21vknW2uR3Y",
        "outputId": "57cda6d4-6934-4c33-db39-575e452c94e5"
      },
      "execution_count": 47,
      "outputs": [
        {
          "output_type": "stream",
          "name": "stdout",
          "text": [
            "Epoch 1/30\n",
            "29/29 [==============================] - 2s 4ms/step - loss: 0.2517 - accuracy: 0.5103\n",
            "Epoch 2/30\n",
            "29/29 [==============================] - 0s 3ms/step - loss: 0.2404 - accuracy: 0.5724\n",
            "Epoch 3/30\n",
            "29/29 [==============================] - 0s 3ms/step - loss: 0.2364 - accuracy: 0.6069\n",
            "Epoch 4/30\n",
            "29/29 [==============================] - 0s 5ms/step - loss: 0.2300 - accuracy: 0.6759\n",
            "Epoch 5/30\n",
            "29/29 [==============================] - 0s 4ms/step - loss: 0.2244 - accuracy: 0.6966\n",
            "Epoch 6/30\n",
            "29/29 [==============================] - 0s 4ms/step - loss: 0.2189 - accuracy: 0.6828\n",
            "Epoch 7/30\n",
            "29/29 [==============================] - 0s 3ms/step - loss: 0.2137 - accuracy: 0.6897\n",
            "Epoch 8/30\n",
            "29/29 [==============================] - 0s 4ms/step - loss: 0.2086 - accuracy: 0.7103\n",
            "Epoch 9/30\n",
            "29/29 [==============================] - 0s 3ms/step - loss: 0.2032 - accuracy: 0.6966\n",
            "Epoch 10/30\n",
            "29/29 [==============================] - 0s 4ms/step - loss: 0.1998 - accuracy: 0.7172\n",
            "Epoch 11/30\n",
            "29/29 [==============================] - 0s 4ms/step - loss: 0.1926 - accuracy: 0.7724\n",
            "Epoch 12/30\n",
            "29/29 [==============================] - 0s 3ms/step - loss: 0.1885 - accuracy: 0.7931\n",
            "Epoch 13/30\n",
            "29/29 [==============================] - 0s 4ms/step - loss: 0.1836 - accuracy: 0.7241\n",
            "Epoch 14/30\n",
            "29/29 [==============================] - 0s 4ms/step - loss: 0.1782 - accuracy: 0.7310\n",
            "Epoch 15/30\n",
            "29/29 [==============================] - 0s 4ms/step - loss: 0.1752 - accuracy: 0.7724\n",
            "Epoch 16/30\n",
            "29/29 [==============================] - 0s 4ms/step - loss: 0.1688 - accuracy: 0.7793\n",
            "Epoch 17/30\n",
            "29/29 [==============================] - 0s 4ms/step - loss: 0.1621 - accuracy: 0.8276\n",
            "Epoch 18/30\n",
            "29/29 [==============================] - 0s 3ms/step - loss: 0.1581 - accuracy: 0.7724\n",
            "Epoch 19/30\n",
            "29/29 [==============================] - 0s 2ms/step - loss: 0.1581 - accuracy: 0.8069\n",
            "Epoch 20/30\n",
            "29/29 [==============================] - 0s 2ms/step - loss: 0.1493 - accuracy: 0.8138\n",
            "Epoch 21/30\n",
            "29/29 [==============================] - 0s 3ms/step - loss: 0.1453 - accuracy: 0.8414\n",
            "Epoch 22/30\n",
            "29/29 [==============================] - 0s 3ms/step - loss: 0.1435 - accuracy: 0.8345\n",
            "Epoch 23/30\n",
            "29/29 [==============================] - 0s 2ms/step - loss: 0.1392 - accuracy: 0.8483\n",
            "Epoch 24/30\n",
            "29/29 [==============================] - 0s 3ms/step - loss: 0.1357 - accuracy: 0.8483\n",
            "Epoch 25/30\n",
            "29/29 [==============================] - 0s 3ms/step - loss: 0.1352 - accuracy: 0.8207\n",
            "Epoch 26/30\n",
            "29/29 [==============================] - 0s 3ms/step - loss: 0.1307 - accuracy: 0.8483\n",
            "Epoch 27/30\n",
            "29/29 [==============================] - 0s 3ms/step - loss: 0.1283 - accuracy: 0.8207\n",
            "Epoch 28/30\n",
            "29/29 [==============================] - 0s 3ms/step - loss: 0.1242 - accuracy: 0.8483\n",
            "Epoch 29/30\n",
            "29/29 [==============================] - 0s 3ms/step - loss: 0.1224 - accuracy: 0.8552\n",
            "Epoch 30/30\n",
            "29/29 [==============================] - 0s 2ms/step - loss: 0.1245 - accuracy: 0.8345\n"
          ]
        },
        {
          "output_type": "execute_result",
          "data": {
            "text/plain": [
              "<keras.src.callbacks.History at 0x7c8c69dcbac0>"
            ]
          },
          "metadata": {},
          "execution_count": 47
        }
      ]
    },
    {
      "cell_type": "code",
      "source": [
        "# 테스트셋에 모델 적용\n",
        "print(\"\\n Test Accuracy: %.4f\"%(model.evaluate(X_test,Y_test)[1]))"
      ],
      "metadata": {
        "colab": {
          "base_uri": "https://localhost:8080/"
        },
        "id": "fqzjS_7fuvuG",
        "outputId": "576a584a-b15d-4231-d541-85e12e2d0db9"
      },
      "execution_count": 48,
      "outputs": [
        {
          "output_type": "stream",
          "name": "stdout",
          "text": [
            "2/2 [==============================] - 0s 10ms/step - loss: 0.1448 - accuracy: 0.7778\n",
            "\n",
            " Test Accuracy: 0.7778\n"
          ]
        }
      ]
    },
    {
      "cell_type": "markdown",
      "source": [
        "## 4. 모델 저장과 재사용"
      ],
      "metadata": {
        "id": "NFPldcTZu5eL"
      }
    },
    {
      "cell_type": "code",
      "source": [
        "from keras.models import load_model\n",
        "\n",
        "model.save('my_model.h5')"
      ],
      "metadata": {
        "colab": {
          "base_uri": "https://localhost:8080/"
        },
        "id": "dJ3LxHudu3UC",
        "outputId": "96544ede-66ad-462c-c7db-e13502409f8d"
      },
      "execution_count": 22,
      "outputs": [
        {
          "output_type": "stream",
          "name": "stderr",
          "text": [
            "/usr/local/lib/python3.10/dist-packages/keras/src/engine/training.py:3103: UserWarning: You are saving your model as an HDF5 file via `model.save()`. This file format is considered legacy. We recommend using instead the native Keras format, e.g. `model.save('my_model.keras')`.\n",
            "  saving_api.save_model(\n"
          ]
        }
      ]
    },
    {
      "cell_type": "code",
      "source": [
        "model=load_model('my_model.h5')"
      ],
      "metadata": {
        "id": "r5TnPygSu-ec"
      },
      "execution_count": 23,
      "outputs": []
    },
    {
      "cell_type": "markdown",
      "source": [
        "### 초음파 광물 예측하기: 모델 저장과 재사용"
      ],
      "metadata": {
        "id": "3P8jBDfKvDYZ"
      }
    },
    {
      "cell_type": "code",
      "source": [
        "from tensorflow.keras.models import Sequential, load_model\n",
        "from tensorflow.keras.layers import Dense\n",
        "from sklearn.preprocessing import LabelEncoder"
      ],
      "metadata": {
        "id": "2nODTUJBvB-b"
      },
      "execution_count": 24,
      "outputs": []
    },
    {
      "cell_type": "code",
      "source": [
        "import pandas as pd\n",
        "import numpy as np\n",
        "import tensorflow as tf"
      ],
      "metadata": {
        "id": "imbF35dwvLha"
      },
      "execution_count": 25,
      "outputs": []
    },
    {
      "cell_type": "code",
      "source": [
        "# seed 값 설정\n",
        "seed=0\n",
        "np.random.seed(seed)\n",
        "tf.random.set_seed(3)\n",
        "df=pd.read_csv('/content/sonar.csv', header=None)\n",
        "\n",
        "dataset=df.values\n",
        "X=dataset[:,0:60].astype(float)\n",
        "Y_obj=dataset[:,60]\n",
        "\n",
        "e=LabelEncoder()\n",
        "e.fit(Y_obj)\n",
        "Y=e.transform(Y_obj)"
      ],
      "metadata": {
        "id": "GaqLQiymvPPa"
      },
      "execution_count": 49,
      "outputs": []
    },
    {
      "cell_type": "code",
      "source": [
        "# 학습셋과 테스트셋을 나눔\n",
        "from sklearn.model_selection import train_test_split\n",
        "\n",
        "X_train,X_test,Y_train,Y_test=train_test_split(X,Y,test_size=0.3, random_state=seed)\n",
        "\n",
        "model=Sequential()\n",
        "model.add(Dense(24,input_dim=60,activation='relu'))\n",
        "model.add(Dense(10,activation='relu'))\n",
        "model.add(Dense(1,activation='sigmoid'))\n",
        "\n",
        "model.compile(loss='mean_squared_error',\n",
        "              optimizer='adam',\n",
        "              metrics=['accuracy'])\n",
        "\n",
        "model.fit(X_train,Y_train,epochs=30, batch_size=5) # 기존 epochs: 130\n",
        "model.save('my_model.h5') # 모델을 컴퓨터에 저장\n",
        "\n",
        "del model # 테스트를 위해 메모리 내의 모델을 삭제\n",
        "model=load_model('my_model.h5') # 모델을 새로 불러옴\n",
        "\n",
        "print(\"\\n Test Accuracy: %.4f\" %(model.evaluate(X_test,Y_test)[1]))"
      ],
      "metadata": {
        "colab": {
          "base_uri": "https://localhost:8080/"
        },
        "id": "stCaURHFvSLJ",
        "outputId": "f67626b3-b07c-4925-9cfe-6a8bc4504fed"
      },
      "execution_count": 50,
      "outputs": [
        {
          "output_type": "stream",
          "name": "stdout",
          "text": [
            "Epoch 1/30\n",
            "29/29 [==============================] - 2s 5ms/step - loss: 0.2689 - accuracy: 0.4759\n",
            "Epoch 2/30\n",
            "29/29 [==============================] - 0s 3ms/step - loss: 0.2405 - accuracy: 0.6069\n",
            "Epoch 3/30\n",
            "29/29 [==============================] - 0s 4ms/step - loss: 0.2317 - accuracy: 0.6483\n",
            "Epoch 4/30\n",
            "29/29 [==============================] - 0s 4ms/step - loss: 0.2204 - accuracy: 0.6897\n",
            "Epoch 5/30\n",
            "29/29 [==============================] - 0s 3ms/step - loss: 0.2112 - accuracy: 0.7103\n",
            "Epoch 6/30\n",
            "29/29 [==============================] - 0s 4ms/step - loss: 0.2011 - accuracy: 0.7172\n",
            "Epoch 7/30\n",
            "29/29 [==============================] - 0s 5ms/step - loss: 0.1926 - accuracy: 0.7448\n",
            "Epoch 8/30\n",
            "29/29 [==============================] - 0s 4ms/step - loss: 0.1854 - accuracy: 0.7793\n",
            "Epoch 9/30\n",
            "29/29 [==============================] - 0s 5ms/step - loss: 0.1764 - accuracy: 0.7586\n",
            "Epoch 10/30\n",
            "29/29 [==============================] - 0s 5ms/step - loss: 0.1734 - accuracy: 0.7655\n",
            "Epoch 11/30\n",
            "29/29 [==============================] - 0s 5ms/step - loss: 0.1628 - accuracy: 0.8069\n",
            "Epoch 12/30\n",
            "29/29 [==============================] - 0s 4ms/step - loss: 0.1591 - accuracy: 0.7931\n",
            "Epoch 13/30\n",
            "29/29 [==============================] - 0s 4ms/step - loss: 0.1572 - accuracy: 0.7931\n",
            "Epoch 14/30\n",
            "29/29 [==============================] - 0s 4ms/step - loss: 0.1485 - accuracy: 0.8138\n",
            "Epoch 15/30\n",
            "29/29 [==============================] - 0s 2ms/step - loss: 0.1425 - accuracy: 0.8138\n",
            "Epoch 16/30\n",
            "29/29 [==============================] - 0s 3ms/step - loss: 0.1367 - accuracy: 0.8483\n",
            "Epoch 17/30\n",
            "29/29 [==============================] - 0s 3ms/step - loss: 0.1366 - accuracy: 0.8276\n",
            "Epoch 18/30\n",
            "29/29 [==============================] - 0s 3ms/step - loss: 0.1316 - accuracy: 0.8414\n",
            "Epoch 19/30\n",
            "29/29 [==============================] - 0s 3ms/step - loss: 0.1353 - accuracy: 0.8483\n",
            "Epoch 20/30\n",
            "29/29 [==============================] - 0s 3ms/step - loss: 0.1249 - accuracy: 0.8483\n",
            "Epoch 21/30\n",
            "29/29 [==============================] - 0s 3ms/step - loss: 0.1216 - accuracy: 0.8345\n",
            "Epoch 22/30\n",
            "29/29 [==============================] - 0s 2ms/step - loss: 0.1209 - accuracy: 0.8414\n",
            "Epoch 23/30\n",
            "29/29 [==============================] - 0s 3ms/step - loss: 0.1169 - accuracy: 0.8414\n",
            "Epoch 24/30\n",
            "29/29 [==============================] - 0s 3ms/step - loss: 0.1142 - accuracy: 0.8483\n",
            "Epoch 25/30\n",
            "29/29 [==============================] - 0s 2ms/step - loss: 0.1167 - accuracy: 0.8414\n",
            "Epoch 26/30\n",
            "29/29 [==============================] - 0s 2ms/step - loss: 0.1120 - accuracy: 0.8690\n",
            "Epoch 27/30\n",
            "29/29 [==============================] - 0s 2ms/step - loss: 0.1091 - accuracy: 0.8621\n",
            "Epoch 28/30\n",
            "29/29 [==============================] - 0s 3ms/step - loss: 0.1075 - accuracy: 0.8483\n",
            "Epoch 29/30\n",
            "29/29 [==============================] - 0s 3ms/step - loss: 0.1054 - accuracy: 0.8690\n",
            "Epoch 30/30\n",
            "29/29 [==============================] - 0s 3ms/step - loss: 0.1077 - accuracy: 0.8621\n"
          ]
        },
        {
          "output_type": "stream",
          "name": "stderr",
          "text": [
            "/usr/local/lib/python3.10/dist-packages/keras/src/engine/training.py:3103: UserWarning: You are saving your model as an HDF5 file via `model.save()`. This file format is considered legacy. We recommend using instead the native Keras format, e.g. `model.save('my_model.keras')`.\n",
            "  saving_api.save_model(\n"
          ]
        },
        {
          "output_type": "stream",
          "name": "stdout",
          "text": [
            "2/2 [==============================] - 0s 8ms/step - loss: 0.1457 - accuracy: 0.7778\n",
            "\n",
            " Test Accuracy: 0.7778\n"
          ]
        }
      ]
    },
    {
      "cell_type": "markdown",
      "source": [
        "<hr>\n"
      ],
      "metadata": {
        "id": "Ok44Mvk-vuXZ"
      }
    },
    {
      "cell_type": "markdown",
      "source": [
        "## 5. k겹 교차 검증"
      ],
      "metadata": {
        "id": "oRlo1ydjvv-S"
      }
    },
    {
      "cell_type": "markdown",
      "source": [
        "k겹 교차 검증: 데이터셋을 여러 개로 나누어 하나씩 테스트셋으로 사용하고, 나머지를 모두 합해서 학습셋으로 사용하는 방법"
      ],
      "metadata": {
        "id": "4MkoQMRvvzJ9"
      }
    },
    {
      "cell_type": "markdown",
      "source": [
        "데이터를 원하는 숫자만큼 쪼개 각각 학습셋과 테스트셋으로 사용되게 만드는 함수: <br>\n",
        "sklearn의 StratifiedKFold() 함수"
      ],
      "metadata": {
        "id": "lUMqZDGCv6UF"
      }
    },
    {
      "cell_type": "code",
      "source": [
        "from sklearn.model_selection import StratifiedKFold\n",
        "\n",
        "n_fold=10\n",
        "skf=StratifiedKFold(n_splits=n_fold, shuffle=True, random_state=seed)"
      ],
      "metadata": {
        "id": "Qa6XBpyGvsGA"
      },
      "execution_count": 28,
      "outputs": []
    },
    {
      "cell_type": "code",
      "source": [
        "for train, test in skf.split(X,Y):\n",
        "  model=Sequential()\n",
        "  model.add(Dense(24,input_dim=60,activation='relu'))\n",
        "  model.add(Dense(10,activation='relu'))\n",
        "  model.add(Dense(1,activation='sigmoid'))\n",
        "  model.compile(loss='mean_squared_error',\n",
        "              optimizer='adam',\n",
        "              metrics=['accuracy'])\n",
        "  model.fit(X[train],Y[train],epochs=10, batch_size=5) # 기존 epochs: 100"
      ],
      "metadata": {
        "colab": {
          "base_uri": "https://localhost:8080/"
        },
        "id": "Xaajy6dhwKlB",
        "outputId": "3165ec0a-b606-4b42-e6ad-82582644bd61"
      },
      "execution_count": null,
      "outputs": [
        {
          "output_type": "stream",
          "name": "stdout",
          "text": [
            "Epoch 1/10\n",
            "38/38 [==============================] - 1s 2ms/step - loss: 0.2496 - accuracy: 0.5080\n",
            "Epoch 2/10\n",
            "38/38 [==============================] - 0s 2ms/step - loss: 0.2382 - accuracy: 0.5936\n",
            "Epoch 3/10\n",
            "38/38 [==============================] - 0s 2ms/step - loss: 0.2319 - accuracy: 0.5936\n",
            "Epoch 4/10\n",
            "38/38 [==============================] - 0s 2ms/step - loss: 0.2230 - accuracy: 0.7166\n",
            "Epoch 5/10\n",
            "38/38 [==============================] - 0s 2ms/step - loss: 0.2129 - accuracy: 0.7487\n",
            "Epoch 6/10\n",
            "38/38 [==============================] - 0s 2ms/step - loss: 0.2011 - accuracy: 0.7594\n",
            "Epoch 7/10\n",
            "38/38 [==============================] - 0s 3ms/step - loss: 0.1932 - accuracy: 0.7594\n",
            "Epoch 8/10\n",
            "38/38 [==============================] - 0s 3ms/step - loss: 0.1821 - accuracy: 0.7594\n",
            "Epoch 9/10\n",
            "38/38 [==============================] - 0s 2ms/step - loss: 0.1725 - accuracy: 0.7754\n",
            "Epoch 10/10\n",
            "38/38 [==============================] - 0s 2ms/step - loss: 0.1639 - accuracy: 0.7914\n",
            "Epoch 1/10\n",
            "38/38 [==============================] - 1s 2ms/step - loss: 0.2438 - accuracy: 0.6043\n",
            "Epoch 2/10\n",
            "38/38 [==============================] - 0s 2ms/step - loss: 0.2348 - accuracy: 0.6310\n",
            "Epoch 3/10\n",
            "38/38 [==============================] - 0s 2ms/step - loss: 0.2296 - accuracy: 0.6364\n",
            "Epoch 4/10\n",
            "38/38 [==============================] - 0s 2ms/step - loss: 0.2222 - accuracy: 0.6845\n",
            "Epoch 5/10\n",
            "38/38 [==============================] - 0s 2ms/step - loss: 0.2113 - accuracy: 0.6898\n",
            "Epoch 6/10\n",
            "38/38 [==============================] - 0s 2ms/step - loss: 0.2000 - accuracy: 0.6952\n",
            "Epoch 7/10\n",
            "38/38 [==============================] - 0s 2ms/step - loss: 0.1913 - accuracy: 0.7273\n",
            "Epoch 8/10\n",
            "38/38 [==============================] - 0s 3ms/step - loss: 0.1817 - accuracy: 0.7861\n",
            "Epoch 9/10\n",
            "38/38 [==============================] - 0s 2ms/step - loss: 0.1736 - accuracy: 0.7701\n",
            "Epoch 10/10\n",
            "38/38 [==============================] - 0s 2ms/step - loss: 0.1665 - accuracy: 0.8128\n",
            "Epoch 1/10\n",
            "38/38 [==============================] - 1s 2ms/step - loss: 0.2383 - accuracy: 0.5936\n",
            "Epoch 2/10\n",
            "38/38 [==============================] - 0s 3ms/step - loss: 0.2304 - accuracy: 0.6257\n",
            "Epoch 3/10\n",
            "38/38 [==============================] - 0s 2ms/step - loss: 0.2229 - accuracy: 0.6417\n",
            "Epoch 4/10\n",
            "38/38 [==============================] - 0s 3ms/step - loss: 0.2162 - accuracy: 0.6845\n",
            "Epoch 5/10\n",
            "38/38 [==============================] - 0s 3ms/step - loss: 0.2090 - accuracy: 0.6738\n",
            "Epoch 6/10\n",
            "38/38 [==============================] - 0s 3ms/step - loss: 0.2008 - accuracy: 0.6952\n",
            "Epoch 7/10\n",
            "38/38 [==============================] - 0s 2ms/step - loss: 0.1933 - accuracy: 0.6791\n",
            "Epoch 8/10\n",
            "38/38 [==============================] - 0s 2ms/step - loss: 0.1840 - accuracy: 0.7540\n",
            "Epoch 9/10\n",
            "38/38 [==============================] - 0s 2ms/step - loss: 0.1752 - accuracy: 0.7754\n",
            "Epoch 10/10\n",
            "38/38 [==============================] - 0s 3ms/step - loss: 0.1637 - accuracy: 0.8021\n",
            "Epoch 1/10\n",
            "38/38 [==============================] - 1s 5ms/step - loss: 0.2513 - accuracy: 0.5080\n",
            "Epoch 2/10\n",
            "38/38 [==============================] - 0s 4ms/step - loss: 0.2399 - accuracy: 0.5615\n",
            "Epoch 3/10\n",
            "38/38 [==============================] - 0s 4ms/step - loss: 0.2324 - accuracy: 0.5775\n",
            "Epoch 4/10\n",
            "38/38 [==============================] - 0s 4ms/step - loss: 0.2224 - accuracy: 0.6684\n",
            "Epoch 5/10\n",
            "38/38 [==============================] - 0s 10ms/step - loss: 0.2125 - accuracy: 0.7380\n",
            "Epoch 6/10\n",
            "38/38 [==============================] - 1s 20ms/step - loss: 0.2003 - accuracy: 0.7433\n",
            "Epoch 7/10\n",
            "38/38 [==============================] - 0s 8ms/step - loss: 0.1896 - accuracy: 0.7219\n",
            "Epoch 8/10\n",
            "38/38 [==============================] - 0s 5ms/step - loss: 0.1751 - accuracy: 0.8128\n",
            "Epoch 9/10\n",
            "38/38 [==============================] - 0s 5ms/step - loss: 0.1655 - accuracy: 0.7914\n",
            "Epoch 10/10\n",
            "38/38 [==============================] - 0s 4ms/step - loss: 0.1548 - accuracy: 0.8021\n",
            "Epoch 1/10\n",
            "38/38 [==============================] - 1s 2ms/step - loss: 0.2381 - accuracy: 0.5829\n",
            "Epoch 2/10\n",
            "38/38 [==============================] - 0s 2ms/step - loss: 0.2252 - accuracy: 0.7059\n",
            "Epoch 3/10\n",
            "38/38 [==============================] - 0s 3ms/step - loss: 0.2132 - accuracy: 0.7059\n",
            "Epoch 4/10\n",
            "38/38 [==============================] - 0s 3ms/step - loss: 0.2071 - accuracy: 0.7487\n",
            "Epoch 5/10\n",
            "38/38 [==============================] - 0s 3ms/step - loss: 0.1956 - accuracy: 0.7647\n",
            "Epoch 6/10\n",
            "38/38 [==============================] - 0s 2ms/step - loss: 0.1849 - accuracy: 0.7807\n",
            "Epoch 7/10\n",
            "38/38 [==============================] - 0s 3ms/step - loss: 0.1791 - accuracy: 0.7540\n",
            "Epoch 8/10\n",
            "38/38 [==============================] - 0s 3ms/step - loss: 0.1705 - accuracy: 0.7914\n",
            "Epoch 9/10\n",
            "38/38 [==============================] - 0s 2ms/step - loss: 0.1630 - accuracy: 0.7968\n",
            "Epoch 10/10\n",
            "38/38 [==============================] - 0s 2ms/step - loss: 0.1560 - accuracy: 0.8235\n",
            "Epoch 1/10\n"
          ]
        }
      ]
    },
    {
      "cell_type": "code",
      "source": [
        "accuracy=[]\n",
        "\n",
        "for train,test in skf.split(X,Y):\n",
        "  # 중략\n",
        "  k_accuracy=\"%.4f\" %(model.evaluate(X[test],Y[test])[1])\n",
        "  accuracy.append(k_accuracy)\n",
        "\n",
        "print(\"\\n %.f fold accuracy:\"%n_fold,accuracy)"
      ],
      "metadata": {
        "colab": {
          "base_uri": "https://localhost:8080/"
        },
        "id": "3erQsABCwYyQ",
        "outputId": "89afc77b-c484-4924-aafd-074e45a8b6c6"
      },
      "execution_count": 7,
      "outputs": [
        {
          "output_type": "stream",
          "name": "stdout",
          "text": [
            "1/1 [==============================] - 0s 173ms/step - loss: 0.2644 - accuracy: 0.5714\n",
            "1/1 [==============================] - 0s 29ms/step - loss: 0.2394 - accuracy: 0.5238\n",
            "1/1 [==============================] - 0s 31ms/step - loss: 0.2271 - accuracy: 0.5238\n",
            "1/1 [==============================] - 0s 31ms/step - loss: 0.2430 - accuracy: 0.5238\n",
            "1/1 [==============================] - 0s 29ms/step - loss: 0.2465 - accuracy: 0.5238\n",
            "1/1 [==============================] - 0s 36ms/step - loss: 0.2351 - accuracy: 0.5714\n",
            "1/1 [==============================] - 0s 33ms/step - loss: 0.2486 - accuracy: 0.5714\n",
            "1/1 [==============================] - 0s 30ms/step - loss: 0.2267 - accuracy: 0.6667\n",
            "1/1 [==============================] - 0s 37ms/step - loss: 0.2440 - accuracy: 0.5000\n",
            "1/1 [==============================] - 0s 30ms/step - loss: 0.2342 - accuracy: 0.6000\n",
            "\n",
            " 10 fold accuracy: ['0.5714', '0.5238', '0.5238', '0.5238', '0.5238', '0.5714', '0.5714', '0.6667', '0.5000', '0.6000']\n"
          ]
        }
      ]
    },
    {
      "cell_type": "markdown",
      "source": [
        "### 초음파 광물 예측하기: k겹 교차 검증"
      ],
      "metadata": {
        "id": "gkChH3W0w2Zd"
      }
    },
    {
      "cell_type": "code",
      "source": [
        "from tensorflow.keras.models import Sequential\n",
        "from tensorflow.keras.layers import Dense\n",
        "from sklearn.preprocessing import LabelEncoder\n",
        "from sklearn.model_selection import StratifiedKFold"
      ],
      "metadata": {
        "id": "XAf42HkYwzFd"
      },
      "execution_count": 2,
      "outputs": []
    },
    {
      "cell_type": "code",
      "source": [
        "import numpy as np\n",
        "import pandas as pd\n",
        "import tensorflow as tf"
      ],
      "metadata": {
        "id": "XqCqHgSbw_dC"
      },
      "execution_count": 3,
      "outputs": []
    },
    {
      "cell_type": "code",
      "source": [
        "# seed 값 설정\n",
        "seed=0\n",
        "np.random.seed(seed)\n",
        "tf.random.set_seed(3)\n",
        "df=pd.read_csv('/content/sonar.csv', header=None)\n",
        "\n",
        "dataset=df.values\n",
        "X=dataset[:,0:60].astype(float)\n",
        "Y_obj=dataset[:,60]\n",
        "\n",
        "e=LabelEncoder()\n",
        "e.fit(Y_obj)\n",
        "Y=e.transform(Y_obj)"
      ],
      "metadata": {
        "id": "BAUZHehyxCe2"
      },
      "execution_count": 4,
      "outputs": []
    },
    {
      "cell_type": "code",
      "source": [
        "# 10개의 파일로 쪼갬\n",
        "n_fold=10\n",
        "skf=StratifiedKFold(n_splits=n_fold, shuffle=True, random_state=seed)\n",
        "\n",
        "# 빈 accuracy 배열\n",
        "accuracy=[]"
      ],
      "metadata": {
        "id": "I5x360xgxG4f"
      },
      "execution_count": 5,
      "outputs": []
    },
    {
      "cell_type": "code",
      "source": [
        "# 모델의 설정, 컴파일 실행\n",
        "for train, test in skf.split(X,Y):\n",
        "  model=Sequential()\n",
        "  model.add(Dense(24,input_dim=60,activation='relu'))\n",
        "  model.add(Dense(10,activation='relu'))\n",
        "  model.add(Dense(1,activation='sigmoid'))\n",
        "  model.compile(loss='mean_squared_error',\n",
        "              optimizer='adam',\n",
        "              metrics=['accuracy'])\n",
        "  model.fit(X[train],Y[train],epochs=100, batch_size=5)\n",
        "  k_accuracy=\"%.4f\" %(model.evaluate(X[test],Y[test])[1])\n",
        "  accuracy.append(k_accuracy)\n",
        "\n",
        "# 결과 출력\n",
        "print(\"\\n %.f fold accuracy:\"%n_fold,accuracy)"
      ],
      "metadata": {
        "colab": {
          "base_uri": "https://localhost:8080/",
          "height": 533
        },
        "id": "JotTQljCxRdy",
        "outputId": "860ea88f-274e-469a-bbe2-f4ea53c1e88e"
      },
      "execution_count": 6,
      "outputs": [
        {
          "output_type": "stream",
          "name": "stdout",
          "text": [
            "Epoch 1/100\n",
            "38/38 [==============================] - 1s 3ms/step - loss: 0.2545 - accuracy: 0.5027\n",
            "Epoch 2/100\n",
            "38/38 [==============================] - 0s 2ms/step - loss: 0.2448 - accuracy: 0.5455\n",
            "Epoch 3/100\n",
            " 1/38 [..............................] - ETA: 0s - loss: 0.2437 - accuracy: 0.4000"
          ]
        },
        {
          "output_type": "error",
          "ename": "KeyboardInterrupt",
          "evalue": "",
          "traceback": [
            "\u001b[0;31m---------------------------------------------------------------------------\u001b[0m",
            "\u001b[0;31mKeyboardInterrupt\u001b[0m                         Traceback (most recent call last)",
            "\u001b[0;32m<ipython-input-6-d35967582c75>\u001b[0m in \u001b[0;36m<cell line: 2>\u001b[0;34m()\u001b[0m\n\u001b[1;32m      8\u001b[0m               \u001b[0moptimizer\u001b[0m\u001b[0;34m=\u001b[0m\u001b[0;34m'adam'\u001b[0m\u001b[0;34m,\u001b[0m\u001b[0;34m\u001b[0m\u001b[0;34m\u001b[0m\u001b[0m\n\u001b[1;32m      9\u001b[0m               metrics=['accuracy'])\n\u001b[0;32m---> 10\u001b[0;31m   \u001b[0mmodel\u001b[0m\u001b[0;34m.\u001b[0m\u001b[0mfit\u001b[0m\u001b[0;34m(\u001b[0m\u001b[0mX\u001b[0m\u001b[0;34m[\u001b[0m\u001b[0mtrain\u001b[0m\u001b[0;34m]\u001b[0m\u001b[0;34m,\u001b[0m\u001b[0mY\u001b[0m\u001b[0;34m[\u001b[0m\u001b[0mtrain\u001b[0m\u001b[0;34m]\u001b[0m\u001b[0;34m,\u001b[0m\u001b[0mepochs\u001b[0m\u001b[0;34m=\u001b[0m\u001b[0;36m100\u001b[0m\u001b[0;34m,\u001b[0m \u001b[0mbatch_size\u001b[0m\u001b[0;34m=\u001b[0m\u001b[0;36m5\u001b[0m\u001b[0;34m)\u001b[0m\u001b[0;34m\u001b[0m\u001b[0;34m\u001b[0m\u001b[0m\n\u001b[0m\u001b[1;32m     11\u001b[0m   \u001b[0mk_accuracy\u001b[0m\u001b[0;34m=\u001b[0m\u001b[0;34m\"%.4f\"\u001b[0m \u001b[0;34m%\u001b[0m\u001b[0;34m(\u001b[0m\u001b[0mmodel\u001b[0m\u001b[0;34m.\u001b[0m\u001b[0mevaluate\u001b[0m\u001b[0;34m(\u001b[0m\u001b[0mX\u001b[0m\u001b[0;34m[\u001b[0m\u001b[0mtest\u001b[0m\u001b[0;34m]\u001b[0m\u001b[0;34m,\u001b[0m\u001b[0mY\u001b[0m\u001b[0;34m[\u001b[0m\u001b[0mtest\u001b[0m\u001b[0;34m]\u001b[0m\u001b[0;34m)\u001b[0m\u001b[0;34m[\u001b[0m\u001b[0;36m1\u001b[0m\u001b[0;34m]\u001b[0m\u001b[0;34m)\u001b[0m\u001b[0;34m\u001b[0m\u001b[0;34m\u001b[0m\u001b[0m\n\u001b[1;32m     12\u001b[0m   \u001b[0maccuracy\u001b[0m\u001b[0;34m.\u001b[0m\u001b[0mappend\u001b[0m\u001b[0;34m(\u001b[0m\u001b[0mk_accuracy\u001b[0m\u001b[0;34m)\u001b[0m\u001b[0;34m\u001b[0m\u001b[0;34m\u001b[0m\u001b[0m\n",
            "\u001b[0;32m/usr/local/lib/python3.10/dist-packages/keras/src/utils/traceback_utils.py\u001b[0m in \u001b[0;36merror_handler\u001b[0;34m(*args, **kwargs)\u001b[0m\n\u001b[1;32m     63\u001b[0m         \u001b[0mfiltered_tb\u001b[0m \u001b[0;34m=\u001b[0m \u001b[0;32mNone\u001b[0m\u001b[0;34m\u001b[0m\u001b[0;34m\u001b[0m\u001b[0m\n\u001b[1;32m     64\u001b[0m         \u001b[0;32mtry\u001b[0m\u001b[0;34m:\u001b[0m\u001b[0;34m\u001b[0m\u001b[0;34m\u001b[0m\u001b[0m\n\u001b[0;32m---> 65\u001b[0;31m             \u001b[0;32mreturn\u001b[0m \u001b[0mfn\u001b[0m\u001b[0;34m(\u001b[0m\u001b[0;34m*\u001b[0m\u001b[0margs\u001b[0m\u001b[0;34m,\u001b[0m \u001b[0;34m**\u001b[0m\u001b[0mkwargs\u001b[0m\u001b[0;34m)\u001b[0m\u001b[0;34m\u001b[0m\u001b[0;34m\u001b[0m\u001b[0m\n\u001b[0m\u001b[1;32m     66\u001b[0m         \u001b[0;32mexcept\u001b[0m \u001b[0mException\u001b[0m \u001b[0;32mas\u001b[0m \u001b[0me\u001b[0m\u001b[0;34m:\u001b[0m\u001b[0;34m\u001b[0m\u001b[0;34m\u001b[0m\u001b[0m\n\u001b[1;32m     67\u001b[0m             \u001b[0mfiltered_tb\u001b[0m \u001b[0;34m=\u001b[0m \u001b[0m_process_traceback_frames\u001b[0m\u001b[0;34m(\u001b[0m\u001b[0me\u001b[0m\u001b[0;34m.\u001b[0m\u001b[0m__traceback__\u001b[0m\u001b[0;34m)\u001b[0m\u001b[0;34m\u001b[0m\u001b[0;34m\u001b[0m\u001b[0m\n",
            "\u001b[0;32m/usr/local/lib/python3.10/dist-packages/keras/src/engine/training.py\u001b[0m in \u001b[0;36mfit\u001b[0;34m(self, x, y, batch_size, epochs, verbose, callbacks, validation_split, validation_data, shuffle, class_weight, sample_weight, initial_epoch, steps_per_epoch, validation_steps, validation_batch_size, validation_freq, max_queue_size, workers, use_multiprocessing)\u001b[0m\n\u001b[1;32m   1796\u001b[0m                 \u001b[0mcallbacks\u001b[0m\u001b[0;34m.\u001b[0m\u001b[0mon_epoch_begin\u001b[0m\u001b[0;34m(\u001b[0m\u001b[0mepoch\u001b[0m\u001b[0;34m)\u001b[0m\u001b[0;34m\u001b[0m\u001b[0;34m\u001b[0m\u001b[0m\n\u001b[1;32m   1797\u001b[0m                 \u001b[0;32mwith\u001b[0m \u001b[0mdata_handler\u001b[0m\u001b[0;34m.\u001b[0m\u001b[0mcatch_stop_iteration\u001b[0m\u001b[0;34m(\u001b[0m\u001b[0;34m)\u001b[0m\u001b[0;34m:\u001b[0m\u001b[0;34m\u001b[0m\u001b[0;34m\u001b[0m\u001b[0m\n\u001b[0;32m-> 1798\u001b[0;31m                     \u001b[0;32mfor\u001b[0m \u001b[0mstep\u001b[0m \u001b[0;32min\u001b[0m \u001b[0mdata_handler\u001b[0m\u001b[0;34m.\u001b[0m\u001b[0msteps\u001b[0m\u001b[0;34m(\u001b[0m\u001b[0;34m)\u001b[0m\u001b[0;34m:\u001b[0m\u001b[0;34m\u001b[0m\u001b[0;34m\u001b[0m\u001b[0m\n\u001b[0m\u001b[1;32m   1799\u001b[0m                         with tf.profiler.experimental.Trace(\n\u001b[1;32m   1800\u001b[0m                             \u001b[0;34m\"train\"\u001b[0m\u001b[0;34m,\u001b[0m\u001b[0;34m\u001b[0m\u001b[0;34m\u001b[0m\u001b[0m\n",
            "\u001b[0;32m/usr/local/lib/python3.10/dist-packages/keras/src/engine/data_adapter.py\u001b[0m in \u001b[0;36msteps\u001b[0;34m(self)\u001b[0m\n\u001b[1;32m   1409\u001b[0m             \u001b[0;32mif\u001b[0m \u001b[0mself\u001b[0m\u001b[0;34m.\u001b[0m\u001b[0m_insufficient_data\u001b[0m\u001b[0;34m:\u001b[0m  \u001b[0;31m# Set by `catch_stop_iteration`.\u001b[0m\u001b[0;34m\u001b[0m\u001b[0;34m\u001b[0m\u001b[0m\n\u001b[1;32m   1410\u001b[0m                 \u001b[0;32mbreak\u001b[0m\u001b[0;34m\u001b[0m\u001b[0;34m\u001b[0m\u001b[0m\n\u001b[0;32m-> 1411\u001b[0;31m             \u001b[0moriginal_spe\u001b[0m \u001b[0;34m=\u001b[0m \u001b[0mself\u001b[0m\u001b[0;34m.\u001b[0m\u001b[0m_steps_per_execution\u001b[0m\u001b[0;34m.\u001b[0m\u001b[0mnumpy\u001b[0m\u001b[0;34m(\u001b[0m\u001b[0;34m)\u001b[0m\u001b[0;34m.\u001b[0m\u001b[0mitem\u001b[0m\u001b[0;34m(\u001b[0m\u001b[0;34m)\u001b[0m\u001b[0;34m\u001b[0m\u001b[0;34m\u001b[0m\u001b[0m\n\u001b[0m\u001b[1;32m   1412\u001b[0m             can_run_full_execution = (\n\u001b[1;32m   1413\u001b[0m                 \u001b[0moriginal_spe\u001b[0m \u001b[0;34m==\u001b[0m \u001b[0;36m1\u001b[0m\u001b[0;34m\u001b[0m\u001b[0;34m\u001b[0m\u001b[0m\n",
            "\u001b[0;32m/usr/local/lib/python3.10/dist-packages/tensorflow/python/ops/resource_variable_ops.py\u001b[0m in \u001b[0;36mnumpy\u001b[0;34m(self)\u001b[0m\n\u001b[1;32m    687\u001b[0m   \u001b[0;32mdef\u001b[0m \u001b[0mnumpy\u001b[0m\u001b[0;34m(\u001b[0m\u001b[0mself\u001b[0m\u001b[0;34m)\u001b[0m\u001b[0;34m:\u001b[0m\u001b[0;34m\u001b[0m\u001b[0;34m\u001b[0m\u001b[0m\n\u001b[1;32m    688\u001b[0m     \u001b[0;32mif\u001b[0m \u001b[0mcontext\u001b[0m\u001b[0;34m.\u001b[0m\u001b[0mexecuting_eagerly\u001b[0m\u001b[0;34m(\u001b[0m\u001b[0;34m)\u001b[0m\u001b[0;34m:\u001b[0m\u001b[0;34m\u001b[0m\u001b[0;34m\u001b[0m\u001b[0m\n\u001b[0;32m--> 689\u001b[0;31m       \u001b[0;32mreturn\u001b[0m \u001b[0mself\u001b[0m\u001b[0;34m.\u001b[0m\u001b[0mread_value\u001b[0m\u001b[0;34m(\u001b[0m\u001b[0;34m)\u001b[0m\u001b[0;34m.\u001b[0m\u001b[0mnumpy\u001b[0m\u001b[0;34m(\u001b[0m\u001b[0;34m)\u001b[0m\u001b[0;34m\u001b[0m\u001b[0;34m\u001b[0m\u001b[0m\n\u001b[0m\u001b[1;32m    690\u001b[0m     raise NotImplementedError(\n\u001b[1;32m    691\u001b[0m         \"numpy() is only available when eager execution is enabled.\")\n",
            "\u001b[0;32m/usr/local/lib/python3.10/dist-packages/tensorflow/python/ops/resource_variable_ops.py\u001b[0m in \u001b[0;36mread_value\u001b[0;34m(self)\u001b[0m\n\u001b[1;32m    837\u001b[0m     \"\"\"\n\u001b[1;32m    838\u001b[0m     \u001b[0;32mwith\u001b[0m \u001b[0mops\u001b[0m\u001b[0;34m.\u001b[0m\u001b[0mname_scope\u001b[0m\u001b[0;34m(\u001b[0m\u001b[0;34m\"Read\"\u001b[0m\u001b[0;34m)\u001b[0m\u001b[0;34m:\u001b[0m\u001b[0;34m\u001b[0m\u001b[0;34m\u001b[0m\u001b[0m\n\u001b[0;32m--> 839\u001b[0;31m       \u001b[0mvalue\u001b[0m \u001b[0;34m=\u001b[0m \u001b[0mself\u001b[0m\u001b[0;34m.\u001b[0m\u001b[0m_read_variable_op\u001b[0m\u001b[0;34m(\u001b[0m\u001b[0;34m)\u001b[0m\u001b[0;34m\u001b[0m\u001b[0;34m\u001b[0m\u001b[0m\n\u001b[0m\u001b[1;32m    840\u001b[0m     \u001b[0;31m# Return an identity so it can get placed on whatever device the context\u001b[0m\u001b[0;34m\u001b[0m\u001b[0;34m\u001b[0m\u001b[0m\n\u001b[1;32m    841\u001b[0m     \u001b[0;31m# specifies instead of the device where the variable is.\u001b[0m\u001b[0;34m\u001b[0m\u001b[0;34m\u001b[0m\u001b[0m\n",
            "\u001b[0;32m/usr/local/lib/python3.10/dist-packages/tensorflow/python/ops/resource_variable_ops.py\u001b[0m in \u001b[0;36m_read_variable_op\u001b[0;34m(self, no_copy)\u001b[0m\n\u001b[1;32m    816\u001b[0m           \u001b[0mresult\u001b[0m \u001b[0;34m=\u001b[0m \u001b[0mread_and_set_handle\u001b[0m\u001b[0;34m(\u001b[0m\u001b[0mno_copy\u001b[0m\u001b[0;34m)\u001b[0m\u001b[0;34m\u001b[0m\u001b[0;34m\u001b[0m\u001b[0m\n\u001b[1;32m    817\u001b[0m     \u001b[0;32melse\u001b[0m\u001b[0;34m:\u001b[0m\u001b[0;34m\u001b[0m\u001b[0;34m\u001b[0m\u001b[0m\n\u001b[0;32m--> 818\u001b[0;31m       \u001b[0mresult\u001b[0m \u001b[0;34m=\u001b[0m \u001b[0mread_and_set_handle\u001b[0m\u001b[0;34m(\u001b[0m\u001b[0mno_copy\u001b[0m\u001b[0;34m)\u001b[0m\u001b[0;34m\u001b[0m\u001b[0;34m\u001b[0m\u001b[0m\n\u001b[0m\u001b[1;32m    819\u001b[0m \u001b[0;34m\u001b[0m\u001b[0m\n\u001b[1;32m    820\u001b[0m     \u001b[0;32mif\u001b[0m \u001b[0;32mnot\u001b[0m \u001b[0mcontext\u001b[0m\u001b[0;34m.\u001b[0m\u001b[0mexecuting_eagerly\u001b[0m\u001b[0;34m(\u001b[0m\u001b[0;34m)\u001b[0m\u001b[0;34m:\u001b[0m\u001b[0;34m\u001b[0m\u001b[0;34m\u001b[0m\u001b[0m\n",
            "\u001b[0;32m/usr/local/lib/python3.10/dist-packages/tensorflow/python/ops/resource_variable_ops.py\u001b[0m in \u001b[0;36mread_and_set_handle\u001b[0;34m(no_copy)\u001b[0m\n\u001b[1;32m    806\u001b[0m       \u001b[0;32mif\u001b[0m \u001b[0mno_copy\u001b[0m \u001b[0;32mand\u001b[0m \u001b[0mforward_compat\u001b[0m\u001b[0;34m.\u001b[0m\u001b[0mforward_compatible\u001b[0m\u001b[0;34m(\u001b[0m\u001b[0;36m2022\u001b[0m\u001b[0;34m,\u001b[0m \u001b[0;36m5\u001b[0m\u001b[0;34m,\u001b[0m \u001b[0;36m3\u001b[0m\u001b[0;34m)\u001b[0m\u001b[0;34m:\u001b[0m\u001b[0;34m\u001b[0m\u001b[0;34m\u001b[0m\u001b[0m\n\u001b[1;32m    807\u001b[0m         \u001b[0mgen_resource_variable_ops\u001b[0m\u001b[0;34m.\u001b[0m\u001b[0mdisable_copy_on_read\u001b[0m\u001b[0;34m(\u001b[0m\u001b[0mself\u001b[0m\u001b[0;34m.\u001b[0m\u001b[0mhandle\u001b[0m\u001b[0;34m)\u001b[0m\u001b[0;34m\u001b[0m\u001b[0;34m\u001b[0m\u001b[0m\n\u001b[0;32m--> 808\u001b[0;31m       result = gen_resource_variable_ops.read_variable_op(\n\u001b[0m\u001b[1;32m    809\u001b[0m           self.handle, self._dtype)\n\u001b[1;32m    810\u001b[0m       \u001b[0m_maybe_set_handle_data\u001b[0m\u001b[0;34m(\u001b[0m\u001b[0mself\u001b[0m\u001b[0;34m.\u001b[0m\u001b[0m_dtype\u001b[0m\u001b[0;34m,\u001b[0m \u001b[0mself\u001b[0m\u001b[0;34m.\u001b[0m\u001b[0mhandle\u001b[0m\u001b[0;34m,\u001b[0m \u001b[0mresult\u001b[0m\u001b[0;34m)\u001b[0m\u001b[0;34m\u001b[0m\u001b[0;34m\u001b[0m\u001b[0m\n",
            "\u001b[0;32m/usr/local/lib/python3.10/dist-packages/tensorflow/python/ops/gen_resource_variable_ops.py\u001b[0m in \u001b[0;36mread_variable_op\u001b[0;34m(resource, dtype, name)\u001b[0m\n\u001b[1;32m    532\u001b[0m   \u001b[0;32mif\u001b[0m \u001b[0mtld\u001b[0m\u001b[0;34m.\u001b[0m\u001b[0mis_eager\u001b[0m\u001b[0;34m:\u001b[0m\u001b[0;34m\u001b[0m\u001b[0;34m\u001b[0m\u001b[0m\n\u001b[1;32m    533\u001b[0m     \u001b[0;32mtry\u001b[0m\u001b[0;34m:\u001b[0m\u001b[0;34m\u001b[0m\u001b[0;34m\u001b[0m\u001b[0m\n\u001b[0;32m--> 534\u001b[0;31m       _result = pywrap_tfe.TFE_Py_FastPathExecute(\n\u001b[0m\u001b[1;32m    535\u001b[0m         _ctx, \"ReadVariableOp\", name, resource, \"dtype\", dtype)\n\u001b[1;32m    536\u001b[0m       \u001b[0;32mreturn\u001b[0m \u001b[0m_result\u001b[0m\u001b[0;34m\u001b[0m\u001b[0;34m\u001b[0m\u001b[0m\n",
            "\u001b[0;31mKeyboardInterrupt\u001b[0m: "
          ]
        }
      ]
    }
  ]
}