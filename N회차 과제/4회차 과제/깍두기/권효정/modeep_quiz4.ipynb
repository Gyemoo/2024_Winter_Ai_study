{
  "nbformat": 4,
  "nbformat_minor": 0,
  "metadata": {
    "colab": {
      "provenance": []
    },
    "kernelspec": {
      "name": "python3",
      "display_name": "Python 3"
    },
    "language_info": {
      "name": "python"
    }
  },
  "cells": [
    {
      "cell_type": "markdown",
      "source": [
        "# Q) 문제 <br>\n",
        "문제1. 딥러닝의 구조를 짜고 층을 설정하는 부분을 나타내는 코드는?<br>\n",
        "문제2. 입력 데이터에서 몇 개의 값을 가져올지를 정하는 변수의 이름은?<br>\n",
        "문제3. dense() 함수 내의 인자는 은닉층을 나타내는 코드와 출력층을 나타내는 코드에서 각각 몇개씩인가요?<br>\n",
        "문제4. model.add()로 시작되는 라인이 두 개가 아닌 세개라면 입력층, 은닉층, 출력층은 각각 몇개씩인가요?<br>\n",
        "문제5. 활성화 함수를 지정해주기 위해 사용하는 변수의 이름은?<br>"
      ],
      "metadata": {
        "id": "Jna5kMsV91AD"
      }
    },
    {
      "cell_type": "markdown",
      "source": [
        "답1: model=Sequential() 함수 <br>\n",
        "답2: input_dim <br>\n",
        "답3: 은닉층: 3개, 출력층: 2개 <br>\n",
        "답4: 입력층: 1개, 은닉층: 2개, 출력층: 1개 <br>\n",
        "답5: activation"
      ],
      "metadata": {
        "id": "SL3jzXAT97pc"
      }
    },
    {
      "cell_type": "markdown",
      "source": [
        "<hr>"
      ],
      "metadata": {
        "id": "Tz0jtbQA-Qhk"
      }
    },
    {
      "cell_type": "markdown",
      "source": [
        "# 문제 <br>\n",
        "(1) 모델 컴파일 시, 아래 인자의 역할은?\n",
        "\n",
        "metric()\n",
        "<br>\n",
        "(2) 주사위의 눈 1, 2, 3, 4가 나오는 사건과\n",
        "동전을 던졌을 때 앞면이 나오는 사건 중\n",
        "어떤 사건의 엔트로피가 더 높은가?\n",
        "<br>\n",
        "(3) 교차형 엔트로피는 주로 어떤 데이터를 다루는데 사용되는가?\n",
        "<br>\n",
        "(4) 교차 엔트로피 계열의 오차 함수 2가지는?\n",
        "<br>\n",
        "(5) 아래 식을 이용하는 오차함수는? (평균 제곱 계열의 오차 함수 중 하나)<br>\n",
        "yt : 실제 값<br>\n",
        "yo : 예측값<br>\n",
        "\n",
        "mean(abs(yt-yo) / abs(yt) #(yt !=0)"
      ],
      "metadata": {
        "id": "rcgvHfbM-VVw"
      }
    },
    {
      "cell_type": "markdown",
      "source": [
        "답1: 과적합 방지 <br>\n",
        "답2: 동전을 던졌을 때 앞면이 나오는 사건<br>\n",
        "답3: 이산 데이터 <br>\n",
        "답4. 범주형 교차 엔트로피, 이항 교차 엔트로피 <br>\n",
        "답5: 평균 절대 백분율 오차함수"
      ],
      "metadata": {
        "id": "g1FXgAW1-b_R"
      }
    },
    {
      "cell_type": "code",
      "source": [],
      "metadata": {
        "id": "x8bRFIMd-xl8"
      },
      "execution_count": null,
      "outputs": []
    }
  ]
}