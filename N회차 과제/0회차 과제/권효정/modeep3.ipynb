{
  "nbformat": 4,
  "nbformat_minor": 0,
  "metadata": {
    "colab": {
      "provenance": []
    },
    "kernelspec": {
      "name": "python3",
      "display_name": "Python 3"
    },
    "language_info": {
      "name": "python"
    }
  },
  "cells": [
    {
      "cell_type": "markdown",
      "source": [
        "# 3장. 가장 훌륭한 예측선 긋기: 선형 회귀"
      ],
      "metadata": {
        "id": "uq0GeFla4Mpt"
      }
    },
    {
      "cell_type": "markdown",
      "source": [
        "딥러닝의 가장 말단에서 이루어지는 가장 기 본적인 두 가지 계산 원리: 선형 회귀와 로지스틱 회귀"
      ],
      "metadata": {
        "id": "68sXLf0E4T4q"
      }
    },
    {
      "cell_type": "markdown",
      "source": [
        "가장 훌륭한 예측선 긋기: 선형 회귀를 쉽게 풀어서 정의한 것. (통계학 용어)"
      ],
      "metadata": {
        "id": "KH_pkzhW4jvh"
      }
    },
    {
      "cell_type": "markdown",
      "source": [
        "<hr>"
      ],
      "metadata": {
        "id": "XUZ-vRf44hu_"
      }
    },
    {
      "cell_type": "markdown",
      "source": [
        "## 1. 선형 회귀의 정의"
      ],
      "metadata": {
        "id": "ig5Up-pn47tp"
      }
    },
    {
      "cell_type": "markdown",
      "source": [
        "성적을 변하게 하는 '정보' 요소: x <br>\n",
        "x값에 따라 변하는 '성적': y <br>\n",
        "'x값이 변함에 따라 y값도 변한다'는 정의 안에서,<br>\n",
        "- 독립 변수: 독립적으로 변할 수 있는 값 x (독립 변수는 여러 개일 수도 있음)<br>\n",
        "- 종속 변수: 독립 변수에 따라 종속적으로 변하는 y<br>\n",
        "- 선형 회귀: 독립 변수 x를 사용해 종속 변수 y의 움직임을 예측하고 설명하는 작업"
      ],
      "metadata": {
        "id": "Pg4Pvr2M5DKt"
      }
    },
    {
      "cell_type": "markdown",
      "source": [
        "- 단순 선형 회귀: 하나의 x값만으로도 y값을 설명할 수 있을 때 <br>\n",
        "- 다중 선형 회귀: x 값이 여러 개 필요할 때"
      ],
      "metadata": {
        "id": "Sqt07crF4xVK"
      }
    },
    {
      "cell_type": "markdown",
      "source": [
        "<hr>"
      ],
      "metadata": {
        "id": "pGM-DMRR45QJ"
      }
    },
    {
      "cell_type": "markdown",
      "source": [
        "## 2. 가장 훌륭한 예측선이란?"
      ],
      "metadata": {
        "id": "4ZLuezv15y_n"
      }
    },
    {
      "cell_type": "markdown",
      "source": [
        "x값은 독립 변수이고 y값은 종속 변수임. <br>\n",
        "즉, x값에 따라 y값은 반드시 달라짐. y=ax+b\n",
        "정확하게 계산하기 위해서는 <br>\n",
        "직선의 기울기 a값과 y절편 b값을 정확히 예측해야 함."
      ],
      "metadata": {
        "id": "uXBeetVN56du"
      }
    },
    {
      "cell_type": "markdown",
      "source": [
        "<hr>"
      ],
      "metadata": {
        "id": "VfsgfHk352LC"
      }
    },
    {
      "cell_type": "markdown",
      "source": [
        "## 3. 최소 제곱법"
      ],
      "metadata": {
        "id": "LV3k19pw6W3l"
      }
    },
    {
      "cell_type": "markdown",
      "source": [
        "Tip. 최소 제곱법은 주어진 x의 값이 하나일 때 적용 가능. 여러 개의 x가 주어지는 경우 경사 하강법을 이용."
      ],
      "metadata": {
        "id": "5zHaPpRe6eS4"
      }
    },
    {
      "cell_type": "markdown",
      "source": [
        "<최소 제곱법 공식> <br>\n",
        "a= (x-x평균)(y-y평균)의 합 / (x-x평균)^2의 합"
      ],
      "metadata": {
        "id": "v-kS1AaA605P"
      }
    },
    {
      "cell_type": "markdown",
      "source": [
        "b=y의 평균-(x의 평균 * 기울기 a)\n",
        "즉, y의 평균에서 x의 평균과 기울기의 곱을 빼면 b의 값이 나옴"
      ],
      "metadata": {
        "id": "xnm1flVb7G4C"
      }
    },
    {
      "cell_type": "markdown",
      "source": [
        "<hr>"
      ],
      "metadata": {
        "id": "iOl62Ptf6Yic"
      }
    },
    {
      "cell_type": "markdown",
      "source": [
        "## 4. 코딩으로 확인하는 최소 제곱"
      ],
      "metadata": {
        "id": "flFBfIZn1-72"
      }
    },
    {
      "cell_type": "code",
      "execution_count": 1,
      "metadata": {
        "id": "LdqYyNNk1mur"
      },
      "outputs": [],
      "source": [
        "import numpy as np # 넘파이 라이브러리"
      ]
    },
    {
      "cell_type": "code",
      "source": [
        "# x값과 y값\n",
        "x=[2,4,6,8] # 리스트 x와 y 선언\n",
        "y=[81,93,91,97]"
      ],
      "metadata": {
        "id": "o5dZ3y7E1tJ8"
      },
      "execution_count": 2,
      "outputs": []
    },
    {
      "cell_type": "code",
      "source": [
        "# x와 y의 평균값\n",
        "mx=np.mean(x) # mean(): x의 모든 원소의 평균을 구하는 넘파이 함수\n",
        "my=np.mean(y) # mx, my에 평균값을 대입\n",
        "\n",
        "print(\"x의 평균값: \",mx)\n",
        "print(\"y의 평균값\",my)"
      ],
      "metadata": {
        "colab": {
          "base_uri": "https://localhost:8080/"
        },
        "id": "lNIvNl1R1v9b",
        "outputId": "a182da31-299e-48b2-a0fe-63e68287f192"
      },
      "execution_count": 12,
      "outputs": [
        {
          "output_type": "stream",
          "name": "stdout",
          "text": [
            "x의 평균값:  5.0\n",
            "y의 평균값 90.5\n"
          ]
        }
      ]
    },
    {
      "cell_type": "code",
      "source": [
        "# 기울기 공식의 분모\n",
        "divisor=sum([(i-mx)**2 for i in x]) # x의 각 원소와 x의 평균값들의 차를 제곱\n",
        "# 최소 제곱근 공식 (분모의 값)"
      ],
      "metadata": {
        "id": "5bnNbbZc1ySs"
      },
      "execution_count": 4,
      "outputs": []
    },
    {
      "cell_type": "code",
      "source": [
        "# 기울기 공식의 분자\n",
        "def top(x, mx, y, my): # 새로운 함수 정의\n",
        "  d=0\n",
        "  for i in range(len(x)):\n",
        "    d+=(x[i]-mx)*(y[i]-my)\n",
        "    # 최소 제곱법 구현 - 각 원소와 평균의 차를 곱해서 차례로 더함\n",
        "  return d\n",
        "dividend=top(x,mx,y,my)\n",
        "  # x와 y의 편차를 곱해서 합한 값 (분자의 값)"
      ],
      "metadata": {
        "id": "KcvhxnAc12Nc"
      },
      "execution_count": 9,
      "outputs": []
    },
    {
      "cell_type": "code",
      "source": [
        "print(\"분모: \",divisor)\n",
        "print(\"분자: \",dividend)"
      ],
      "metadata": {
        "colab": {
          "base_uri": "https://localhost:8080/"
        },
        "id": "WWyo8Fqm3zDI",
        "outputId": "05c63172-8206-438a-abfd-23f38fad3a80"
      },
      "execution_count": 13,
      "outputs": [
        {
          "output_type": "stream",
          "name": "stdout",
          "text": [
            "분모:  20.0\n",
            "분자:  46.0\n"
          ]
        }
      ]
    },
    {
      "cell_type": "code",
      "source": [
        "# 기울기와 y절편 구하기\n",
        "a=dividend/divisor # 기울기 a 구하기\n",
        "b=my-(mx*a) # y절편 구하는 공식을 이용해 b 구하기"
      ],
      "metadata": {
        "id": "_-2-5GzQ3AsD"
      },
      "execution_count": 14,
      "outputs": []
    },
    {
      "cell_type": "code",
      "source": [
        "# 출력으로 확인\n",
        "print(\"기울기 a = \",a)\n",
        "print(\"y절편 b = \",b)"
      ],
      "metadata": {
        "colab": {
          "base_uri": "https://localhost:8080/"
        },
        "id": "bUcG-Tuk3Fqe",
        "outputId": "da24a4e0-7b25-4eee-d911-531340411905"
      },
      "execution_count": 15,
      "outputs": [
        {
          "output_type": "stream",
          "name": "stdout",
          "text": [
            "기울기 a =  2.3\n",
            "y절편 b =  79.0\n"
          ]
        }
      ]
    },
    {
      "cell_type": "markdown",
      "source": [
        "<hr>"
      ],
      "metadata": {
        "id": "7Wyj60lf7b5W"
      }
    },
    {
      "cell_type": "markdown",
      "source": [
        "## 5. 평균 제곱 오차"
      ],
      "metadata": {
        "id": "Oe1LtNoZ7U_F"
      }
    },
    {
      "cell_type": "markdown",
      "source": [
        "주어진 선의 오차를 평가하는 오차 평가 알고리즘이 필요한데, 그 방법 중 가장 많이 사용되는 것이 평균 제곱 오차."
      ],
      "metadata": {
        "id": "nmmXIDta7ZE5"
      }
    },
    {
      "cell_type": "markdown",
      "source": [
        "<hr>"
      ],
      "metadata": {
        "id": "VI54oXYD7pg2"
      }
    },
    {
      "cell_type": "markdown",
      "source": [
        "## 6. 잘못 그은 선 바로잡기"
      ],
      "metadata": {
        "id": "cFGZxtPT7qkH"
      }
    },
    {
      "cell_type": "markdown",
      "source": [
        "가장 많이 사용하는 방법은 ‘일단 그리고 조금씩 수정해 나가기’ 방식 (딥러닝을 가능하게 해주는 가장 중요한 원리 중 하나)<br>\n",
        "가설을 하나 세운 뒤 이 값이 주어진 요건을 충족하는지 판단하여 조금씩 변화를 주고，이 변화가 긍정적이면 오차가 최소가 될 때까지 이 과정을 계속 반복하는 방법"
      ],
      "metadata": {
        "id": "1ZNT79z_7zuZ"
      }
    },
    {
      "cell_type": "markdown",
      "source": [
        "빠지면 안되는 과정: 나중에 그린 선이 먼저 그린 선보다 더 좋은지 나쁜지를 판단하는 방법. <br>\n",
        "즉, 간선의 오차를 계산할 수 있어야 하고, 오차가 작은 쪽으로 바꾸는 알고리즘이 필요함"
      ],
      "metadata": {
        "id": "mkkKpyhj8Gep"
      }
    },
    {
      "cell_type": "markdown",
      "source": [
        "- 평균 제곱 오차: 오차의 합을 n으로 나누면 오차 합의 평균을 구할 수 있음"
      ],
      "metadata": {
        "id": "aBEA_Kzq8gex"
      }
    },
    {
      "cell_type": "markdown",
      "source": [
        "- 선형 회귀란 임의의 직선을 그어 이에 대한 평균 제곱 오차를 구하고, 이 값을 가장 작게 만들어 주는 a와 b값을 찾아가는 작업임."
      ],
      "metadata": {
        "id": "slHbld4c8zuc"
      }
    },
    {
      "cell_type": "markdown",
      "source": [
        "<hr>"
      ],
      "metadata": {
        "id": "qDE0zPA286W5"
      }
    },
    {
      "cell_type": "markdown",
      "source": [
        "## 7. 코딩으로 확인하는 평균 제곱 오차"
      ],
      "metadata": {
        "id": "06Rryogb87gJ"
      }
    },
    {
      "cell_type": "code",
      "source": [
        "import numpy as np"
      ],
      "metadata": {
        "id": "0aoP9Rlx-gyR"
      },
      "execution_count": 26,
      "outputs": []
    },
    {
      "cell_type": "code",
      "source": [
        "# 기울기 a와 y절편 b\n",
        "fake_a_b=[3,76] # 임의로 정한 기울기 a: 3, y절편 b: 76"
      ],
      "metadata": {
        "id": "GM7m5uJg8QT2"
      },
      "execution_count": 27,
      "outputs": []
    },
    {
      "cell_type": "code",
      "source": [
        "# x, y의 데이터 값\n",
        "data=[[2,81],[4,93],[6,91],[8,97]]\n",
        "x=[i[0] for i in data]\n",
        "y=[i[1] for i in data]\n",
        "# 파이썬에서 i[0]은 값 중 첫번째를, i[1]은 두 번째 값을 의미"
      ],
      "metadata": {
        "id": "dnzNb5se9EzB"
      },
      "execution_count": 28,
      "outputs": []
    },
    {
      "cell_type": "code",
      "source": [
        "# y=ax+b에 a와 b값을 대입하여 결과를 출력하는 함수\n",
        "def predict(x):\n",
        "  return fake_a_b[0]*x+fake_a_b[1] # 일차방정식 y=ax+b 구현"
      ],
      "metadata": {
        "id": "BCfB6TSV9I1u"
      },
      "execution_count": 29,
      "outputs": []
    },
    {
      "cell_type": "code",
      "source": [
        "# MSE 함수\n",
        "def mse(y,y_hat): # 평균 제곱 오차 공식\n",
        "  return (((y-y_hat)**2).mean()) # 평균 제곱 구하기"
      ],
      "metadata": {
        "id": "MG7d-f2w9M4e"
      },
      "execution_count": 31,
      "outputs": []
    },
    {
      "cell_type": "code",
      "source": [
        "# MSE 함수를 각 y값에 대입하여 최종 값을 구하는 함수\n",
        "def mse_val(y,predict_result): #predict_result에는 predict()의 결과값이 들어감\n",
        "  return mse(np.array(y), np.array(predict_result))"
      ],
      "metadata": {
        "id": "UW3PZN8R9rsh"
      },
      "execution_count": 32,
      "outputs": []
    },
    {
      "cell_type": "code",
      "source": [
        "# 예측 값이 들어갈 빈 리스트\n",
        "predict_result=[]"
      ],
      "metadata": {
        "id": "53JID38S-Hje"
      },
      "execution_count": 33,
      "outputs": []
    },
    {
      "cell_type": "code",
      "source": [
        "# 모든 x 값을 한 번씩 대입하여\n",
        "for i in range(len(x)):\n",
        "  # 그 결과에 해당하는 predict_result 리스트를 완성\n",
        "  predict_result.append(predict(x[i]))\n",
        "  print(\"공부시간=%.f, 실제 점수=%.f, 예측 점수:%.f\"%(x[i],y[i],predict(x[i])))"
      ],
      "metadata": {
        "colab": {
          "base_uri": "https://localhost:8080/"
        },
        "id": "ZRN0pGWq-K82",
        "outputId": "7da45354-2c74-4b90-eb92-ede3cd03a2d9"
      },
      "execution_count": 34,
      "outputs": [
        {
          "output_type": "stream",
          "name": "stdout",
          "text": [
            "공부시간=2, 실제 점수=81, 예측 점수:82\n",
            "공부시간=4, 실제 점수=93, 예측 점수:88\n",
            "공부시간=6, 실제 점수=91, 예측 점수:94\n",
            "공부시간=8, 실제 점수=97, 예측 점수:100\n"
          ]
        }
      ]
    },
    {
      "cell_type": "code",
      "source": [
        "# 최종 MSE 출력\n",
        "print(\"mse 최종값: \"+str(mse_val(predict_result,y)))"
      ],
      "metadata": {
        "colab": {
          "base_uri": "https://localhost:8080/"
        },
        "id": "bOj71DqD-c3b",
        "outputId": "878e184d-9096-4d0e-cd46-9d6ff5efb507"
      },
      "execution_count": 35,
      "outputs": [
        {
          "output_type": "stream",
          "name": "stdout",
          "text": [
            "mse 최종값: 11.0\n"
          ]
        }
      ]
    }
  ]
}