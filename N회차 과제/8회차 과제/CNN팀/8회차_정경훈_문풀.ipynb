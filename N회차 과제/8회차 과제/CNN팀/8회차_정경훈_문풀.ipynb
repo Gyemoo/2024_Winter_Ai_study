{
  "nbformat": 4,
  "nbformat_minor": 0,
  "metadata": {
    "colab": {
      "provenance": []
    },
    "kernelspec": {
      "name": "python3",
      "display_name": "Python 3"
    },
    "language_info": {
      "name": "python"
    }
  },
  "cells": [
    {
      "cell_type": "markdown",
      "source": [
        "## 다음과 같은 코드에서 나올 결과를 적고, 이렇게 나오는 이유를 설명하시오.\n",
        "\n",
        "```py\n",
        "\n",
        "from tensorflow.keras.preprocessing.text import Tokenizer\n",
        "from keras.utils import to_categorical\n",
        "\n",
        "text= \"엔드 게임에서 아이언맨은 죽는다.\"\n",
        "\n",
        "token = Tokenizer()\n",
        "token.fit_on_texts([text])\n",
        "x = token.texts_to_sequences([text])\n",
        "\n",
        "word_size = len(token.word_index)+1\n",
        "x = to_categorical(x, num_classes=word_size)\n",
        "\n",
        "print(x)\n",
        "\n",
        "```\n"
      ],
      "metadata": {
        "id": "zW8zQfx7oNtl"
      }
    },
    {
      "cell_type": "code",
      "execution_count": 36,
      "metadata": {
        "colab": {
          "base_uri": "https://localhost:8080/"
        },
        "id": "_ed8yXdNoLDk",
        "outputId": "4d8fcdbc-149d-4357-de94-db981b169f12"
      },
      "outputs": [
        {
          "output_type": "stream",
          "name": "stdout",
          "text": [
            "[[[0. 1. 0. 0. 0.]\n",
            "  [0. 0. 1. 0. 0.]\n",
            "  [0. 0. 0. 1. 0.]\n",
            "  [0. 0. 0. 0. 1.]]]\n"
          ]
        }
      ],
      "source": [
        "from tensorflow.keras.preprocessing.text import Tokenizer\n",
        "from keras.utils import to_categorical\n",
        "\n",
        "text= \"엔드 게임에서 아이언맨은 죽는다.\"\n",
        "\n",
        "token = Tokenizer()\n",
        "token.fit_on_texts([text])\n",
        "x = token.texts_to_sequences([text])\n",
        "\n",
        "word_size = len(token.word_index)+1\n",
        "x = to_categorical(x, num_classes=word_size)\n",
        "\n",
        "print(x)"
      ]
    },
    {
      "cell_type": "markdown",
      "source": [
        "단어의 one-hot encoding 을 했음 . 단어의 인덱스를 리스트의 인덱스와 맞추기 위해\n",
        "앞에 0 을 추가로 삽입\n",
        "\n"
      ],
      "metadata": {
        "id": "lf3U73vjoWlB"
      }
    },
    {
      "cell_type": "markdown",
      "source": [
        "## 문제 2\n",
        "- 문장 세트1: \"따끈한 라면 을 먹고 싶어.\",\"맛 있는 밥 이 먹고 싶다\"\n",
        "\n",
        "- 문장 세트2: \"맛 있게 밥솥 으로 밥 을 짓겠다.\",\"맛 있는 밥 이 먹고 싶다\"\n",
        "\n",
        "두 문장의 유사도를 자카드 유사도로도, 코사인 유사도로도 구하시오."
      ],
      "metadata": {
        "id": "hkMTWx9lqDmZ"
      }
    },
    {
      "cell_type": "code",
      "source": [
        "from sklearn.feature_extraction.text import CountVectorizer,TfidfVectorizer\n",
        "from sklearn.metrics.pairwise import cosine_similarity\n",
        "from sklearn.metrics import jaccard_score\n",
        "import numpy as np\n",
        "\n",
        "sentences_set1 = [\"따끈한 라면 을 먹고 싶어.\", \"맛 있는 밥 이 먹고 싶다\"]\n",
        "sentences_set2 = [\"맛 있게 밥솥 으로 밥 을 짓겠다.\", \"맛 있는 밥 이 먹고 싶다\"]"
      ],
      "metadata": {
        "id": "nqf7RyGDoylN"
      },
      "execution_count": 37,
      "outputs": []
    },
    {
      "cell_type": "code",
      "source": [
        "# CountVectorizer를 사용하여 단어 빈도수 벡터를 생성\n",
        "vectorizer = CountVectorizer()\n",
        "X_set1 = vectorizer.fit_transform(sentences_set1)\n",
        "X_set2 = vectorizer.fit_transform(sentences_set2)\n",
        "print(X_set1)"
      ],
      "metadata": {
        "colab": {
          "base_uri": "https://localhost:8080/"
        },
        "id": "E-t4ehIYqyWe",
        "outputId": "692ee9ea-afb1-492b-dc40-f179c4ff7524"
      },
      "execution_count": 38,
      "outputs": [
        {
          "output_type": "stream",
          "name": "stdout",
          "text": [
            "  (0, 0)\t1\n",
            "  (0, 1)\t1\n",
            "  (0, 2)\t1\n",
            "  (0, 4)\t1\n",
            "  (1, 2)\t1\n",
            "  (1, 5)\t1\n",
            "  (1, 3)\t1\n"
          ]
        }
      ]
    },
    {
      "cell_type": "code",
      "source": [
        "print(X_set2)"
      ],
      "metadata": {
        "colab": {
          "base_uri": "https://localhost:8080/"
        },
        "id": "rz_2ajACrWMK",
        "outputId": "344e548c-2bcc-451d-9335-2e87c0545cf0"
      },
      "execution_count": 39,
      "outputs": [
        {
          "output_type": "stream",
          "name": "stdout",
          "text": [
            "  (0, 4)\t1\n",
            "  (0, 1)\t1\n",
            "  (0, 3)\t1\n",
            "  (0, 6)\t1\n",
            "  (1, 5)\t1\n",
            "  (1, 0)\t1\n",
            "  (1, 2)\t1\n"
          ]
        }
      ]
    },
    {
      "cell_type": "code",
      "source": [
        "# 코사인 유사도 계산\n",
        "cosine_sim_set1 = cosine_similarity(X_set1[0:1], X_set1[1:2])\n",
        "cosine_sim_set2 = cosine_similarity(X_set2[0:1], X_set2[1:2])\n",
        "cosine_sim_set1,cosine_sim_set2"
      ],
      "metadata": {
        "colab": {
          "base_uri": "https://localhost:8080/"
        },
        "id": "-8FO5s05q0IB",
        "outputId": "af0d1d69-b6f9-4cbf-da57-da3a668dcc1c"
      },
      "execution_count": 40,
      "outputs": [
        {
          "output_type": "execute_result",
          "data": {
            "text/plain": [
              "(array([[0.28867513]]), array([[0.]]))"
            ]
          },
          "metadata": {},
          "execution_count": 40
        }
      ]
    },
    {
      "cell_type": "code",
      "source": [
        "# TF-IDF Vectorizer를 사용하여 TF-IDF 벡터를 생성\n",
        "tfidf_vectorizer = TfidfVectorizer()\n",
        "X_set1_tfidf = tfidf_vectorizer.fit_transform(sentences_set1)\n",
        "X_set2_tfidf = tfidf_vectorizer.fit_transform(sentences_set2)\n",
        "\n",
        "print(X_set1_tfidf)\n",
        "print()\n",
        "print(X_set2_tfidf)\n",
        "# 코사인 유사도 계산\n",
        "cosine_sim_set1_tfidf = cosine_similarity(X_set1_tfidf[0:1], X_set1_tfidf[1:2])\n",
        "cosine_sim_set2_tfidf = cosine_similarity(X_set2_tfidf[0:1], X_set2_tfidf[1:2])\n",
        "\n",
        "cosine_sim_set1_tfidf,cosine_sim_set2_tfidf"
      ],
      "metadata": {
        "colab": {
          "base_uri": "https://localhost:8080/"
        },
        "id": "9vd39bvbsw6g",
        "outputId": "b078777c-dd0b-4da0-a312-e3608e47ff3b"
      },
      "execution_count": 41,
      "outputs": [
        {
          "output_type": "stream",
          "name": "stdout",
          "text": [
            "  (0, 4)\t0.534046329052269\n",
            "  (0, 2)\t0.37997836159100784\n",
            "  (0, 1)\t0.534046329052269\n",
            "  (0, 0)\t0.534046329052269\n",
            "  (1, 3)\t0.6316672017376245\n",
            "  (1, 5)\t0.6316672017376245\n",
            "  (1, 2)\t0.4494364165239821\n",
            "\n",
            "  (0, 6)\t0.5\n",
            "  (0, 3)\t0.5\n",
            "  (0, 1)\t0.5\n",
            "  (0, 4)\t0.5\n",
            "  (1, 2)\t0.5773502691896257\n",
            "  (1, 0)\t0.5773502691896257\n",
            "  (1, 5)\t0.5773502691896257\n"
          ]
        },
        {
          "output_type": "execute_result",
          "data": {
            "text/plain": [
              "(array([[0.17077611]]), array([[0.]]))"
            ]
          },
          "metadata": {},
          "execution_count": 41
        }
      ]
    },
    {
      "cell_type": "code",
      "source": [
        "binary_vec_set1 = X_set1.toarray().astype(np.bool_)\n",
        "binary_vec_set2 = X_set2.toarray().astype(np.bool_)\n",
        "binary_vec_set1,binary_vec_set2"
      ],
      "metadata": {
        "colab": {
          "base_uri": "https://localhost:8080/"
        },
        "id": "zc_JZSESq9BB",
        "outputId": "5a9eccbd-0224-417f-e883-bbc9e33d9b1f"
      },
      "execution_count": 42,
      "outputs": [
        {
          "output_type": "execute_result",
          "data": {
            "text/plain": [
              "(array([[ True,  True,  True, False,  True, False],\n",
              "        [False, False,  True,  True, False,  True]]),\n",
              " array([[False,  True, False,  True,  True, False,  True],\n",
              "        [ True, False,  True, False, False,  True, False]]))"
            ]
          },
          "metadata": {},
          "execution_count": 42
        }
      ]
    },
    {
      "cell_type": "code",
      "source": [
        "# 자카드 유사도 계산\n",
        "jaccard_sim_set1 = jaccard_score(binary_vec_set1[0], binary_vec_set1[1], average='binary')\n",
        "jaccard_sim_set2 = jaccard_score(binary_vec_set2[0], binary_vec_set2[1], average='binary')\n",
        "jaccard_sim_set1,jaccard_sim_set2"
      ],
      "metadata": {
        "colab": {
          "base_uri": "https://localhost:8080/"
        },
        "id": "aI0bewgwrAsL",
        "outputId": "8d1b0da1-2afc-4d72-8485-55c94f889a22"
      },
      "execution_count": 43,
      "outputs": [
        {
          "output_type": "execute_result",
          "data": {
            "text/plain": [
              "(0.16666666666666666, 0.0)"
            ]
          },
          "metadata": {},
          "execution_count": 43
        }
      ]
    },
    {
      "cell_type": "code",
      "source": [],
      "metadata": {
        "id": "wDUK-nhttYLc"
      },
      "execution_count": 43,
      "outputs": []
    }
  ]
}